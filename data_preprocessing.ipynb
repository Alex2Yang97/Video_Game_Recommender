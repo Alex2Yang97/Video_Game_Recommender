{
 "cells": [
  {
   "cell_type": "markdown",
   "metadata": {
    "toc": true
   },
   "source": [
    "<h1>Table of Contents<span class=\"tocSkip\"></span></h1>\n",
    "<div class=\"toc\"><ul class=\"toc-item\"><li><span><a href=\"#Get-Raw-data\" data-toc-modified-id=\"Get-Raw-data-1\"><span class=\"toc-item-num\">1&nbsp;&nbsp;</span>Get Raw data</a></span></li><li><span><a href=\"#2-Data-Preprocessing\" data-toc-modified-id=\"2-Data-Preprocessing-2\"><span class=\"toc-item-num\">2&nbsp;&nbsp;</span>2 Data Preprocessing</a></span><ul class=\"toc-item\"><li><ul class=\"toc-item\"><li><span><a href=\"#Only-keep-data-in-'2000-01-01'~'2017-12-09'\" data-toc-modified-id=\"Only-keep-data-in-'2000-01-01'~'2017-12-09'-2.0.1\"><span class=\"toc-item-num\">2.0.1&nbsp;&nbsp;</span>Only keep data in '2000-01-01'~'2017-12-09'</a></span></li><li><span><a href=\"#Join-in-Review-data-&amp;-Rating-data-on-'ReviewID'\" data-toc-modified-id=\"Join-in-Review-data-&amp;-Rating-data-on-'ReviewID'-2.0.2\"><span class=\"toc-item-num\">2.0.2&nbsp;&nbsp;</span>Join in Review data &amp; Rating data on 'ReviewID'</a></span></li><li><span><a href=\"#Filter-reviewer-&amp;-product\" data-toc-modified-id=\"Filter-reviewer-&amp;-product-2.0.3\"><span class=\"toc-item-num\">2.0.3&nbsp;&nbsp;</span>Filter reviewer &amp; product</a></span></li><li><span><a href=\"#Save-the-data-to-RES_DIR\" data-toc-modified-id=\"Save-the-data-to-RES_DIR-2.0.4\"><span class=\"toc-item-num\">2.0.4&nbsp;&nbsp;</span>Save the data to RES_DIR</a></span></li></ul></li></ul></li></ul></div>"
   ]
  },
  {
   "cell_type": "code",
   "execution_count": 1,
   "metadata": {
    "ExecuteTime": {
     "end_time": "2021-04-25T18:10:54.777625Z",
     "start_time": "2021-04-25T18:10:54.053799Z"
    }
   },
   "outputs": [],
   "source": [
    "import os\n",
    "import gzip\n",
    "import json\n",
    "import pandas as pd\n",
    "import numpy as np\n",
    "import pickle\n",
    "\n",
    "from config import RAW_DIR, PRE_DIR, RES_DIR\n",
    "from utils.data_porter import read_from_csv, save_to_csv\n",
    "\n",
    "from IPython.core.interactiveshell import InteractiveShell\n",
    "InteractiveShell.ast_node_interactivity = \"all\" "
   ]
  },
  {
   "cell_type": "markdown",
   "metadata": {},
   "source": [
    "# Get Raw data"
   ]
  },
  {
   "cell_type": "code",
   "execution_count": 2,
   "metadata": {
    "ExecuteTime": {
     "end_time": "2021-04-25T18:10:55.261997Z",
     "start_time": "2021-04-25T18:10:55.259366Z"
    }
   },
   "outputs": [],
   "source": [
    "df_rating_dir = os.path.join(RAW_DIR, 'Video_Games.csv')\n",
    "gz_review_dir = os.path.join(RAW_DIR, 'Video_Games_5.json.gz')"
   ]
  },
  {
   "cell_type": "code",
   "execution_count": 3,
   "metadata": {
    "ExecuteTime": {
     "end_time": "2021-04-25T18:10:57.865082Z",
     "start_time": "2021-04-25T18:10:55.283170Z"
    }
   },
   "outputs": [],
   "source": [
    "rating_data = read_from_csv(df_rating_dir, header=None, names=['ProductID', 'ReviewerID', 'Rating', 'TimeStamp'], )\n",
    "rating_data['TimeStamp'] = pd.to_datetime(rating_data.TimeStamp, unit='s')\n",
    "rating_data = rating_data.sort_values(by='TimeStamp')"
   ]
  },
  {
   "cell_type": "code",
   "execution_count": 4,
   "metadata": {
    "ExecuteTime": {
     "end_time": "2021-04-25T18:11:12.289762Z",
     "start_time": "2021-04-25T18:10:57.866908Z"
    }
   },
   "outputs": [],
   "source": [
    "def parse(path):\n",
    "    g = gzip.open(path, 'rb')\n",
    "    for l in g:\n",
    "        yield json.loads(l)\n",
    "\n",
    "def getDF(path):\n",
    "    i = 0\n",
    "    df = {}\n",
    "    for d in parse(path):\n",
    "        df[i] = d\n",
    "        i += 1\n",
    "    return pd.DataFrame.from_dict(df, orient='index')\n",
    "\n",
    "review_data = getDF(gz_review_dir)\n",
    "review_data['reviewTime'] = pd.to_datetime(review_data.unixReviewTime, unit='s')\n",
    "review_data = review_data.sort_values(by='reviewTime')"
   ]
  },
  {
   "cell_type": "markdown",
   "metadata": {},
   "source": [
    "# 2 Data Preprocessing"
   ]
  },
  {
   "cell_type": "markdown",
   "metadata": {},
   "source": [
    "### Only keep data in '2000-01-01'~'2017-12-09'"
   ]
  },
  {
   "cell_type": "code",
   "execution_count": 5,
   "metadata": {
    "ExecuteTime": {
     "end_time": "2021-04-25T18:11:13.256240Z",
     "start_time": "2021-04-25T18:11:12.292669Z"
    },
    "scrolled": false
   },
   "outputs": [],
   "source": [
    "rating_data = rating_data[(rating_data.TimeStamp>='2000-01-01')&(rating_data.TimeStamp<='2017-12-09')]\n",
    "review_data = review_data[(review_data.reviewTime>='2000-01-01')&(review_data.reviewTime<='2017-12-09')]\n",
    "rating_data = rating_data.reset_index(drop=True)\n",
    "review_data = review_data.reset_index(drop=True)"
   ]
  },
  {
   "cell_type": "code",
   "execution_count": 6,
   "metadata": {
    "ExecuteTime": {
     "end_time": "2021-04-25T18:11:13.286406Z",
     "start_time": "2021-04-25T18:11:13.258501Z"
    }
   },
   "outputs": [
    {
     "data": {
      "text/html": [
       "<div>\n",
       "<style scoped>\n",
       "    .dataframe tbody tr th:only-of-type {\n",
       "        vertical-align: middle;\n",
       "    }\n",
       "\n",
       "    .dataframe tbody tr th {\n",
       "        vertical-align: top;\n",
       "    }\n",
       "\n",
       "    .dataframe thead th {\n",
       "        text-align: right;\n",
       "    }\n",
       "</style>\n",
       "<table border=\"1\" class=\"dataframe\">\n",
       "  <thead>\n",
       "    <tr style=\"text-align: right;\">\n",
       "      <th></th>\n",
       "      <th>ProductID</th>\n",
       "      <th>ReviewerID</th>\n",
       "      <th>Rating</th>\n",
       "      <th>TimeStamp</th>\n",
       "    </tr>\n",
       "  </thead>\n",
       "  <tbody>\n",
       "    <tr>\n",
       "      <th>0</th>\n",
       "      <td>B00002NDEJ</td>\n",
       "      <td>A3M033XETXXQKT</td>\n",
       "      <td>2.0</td>\n",
       "      <td>2000-01-01</td>\n",
       "    </tr>\n",
       "    <tr>\n",
       "      <th>1</th>\n",
       "      <td>B00002EIWU</td>\n",
       "      <td>A39WJUYXP17PEQ</td>\n",
       "      <td>4.0</td>\n",
       "      <td>2000-01-01</td>\n",
       "    </tr>\n",
       "    <tr>\n",
       "      <th>2</th>\n",
       "      <td>B0000296ZD</td>\n",
       "      <td>A2O88ZPQKSOWF0</td>\n",
       "      <td>1.0</td>\n",
       "      <td>2000-01-01</td>\n",
       "    </tr>\n",
       "  </tbody>\n",
       "</table>\n",
       "</div>"
      ],
      "text/plain": [
       "    ProductID      ReviewerID  Rating  TimeStamp\n",
       "0  B00002NDEJ  A3M033XETXXQKT     2.0 2000-01-01\n",
       "1  B00002EIWU  A39WJUYXP17PEQ     4.0 2000-01-01\n",
       "2  B0000296ZD  A2O88ZPQKSOWF0     1.0 2000-01-01"
      ]
     },
     "execution_count": 6,
     "metadata": {},
     "output_type": "execute_result"
    },
    {
     "data": {
      "text/html": [
       "<div>\n",
       "<style scoped>\n",
       "    .dataframe tbody tr th:only-of-type {\n",
       "        vertical-align: middle;\n",
       "    }\n",
       "\n",
       "    .dataframe tbody tr th {\n",
       "        vertical-align: top;\n",
       "    }\n",
       "\n",
       "    .dataframe thead th {\n",
       "        text-align: right;\n",
       "    }\n",
       "</style>\n",
       "<table border=\"1\" class=\"dataframe\">\n",
       "  <thead>\n",
       "    <tr style=\"text-align: right;\">\n",
       "      <th></th>\n",
       "      <th>overall</th>\n",
       "      <th>verified</th>\n",
       "      <th>reviewTime</th>\n",
       "      <th>reviewerID</th>\n",
       "      <th>asin</th>\n",
       "      <th>reviewerName</th>\n",
       "      <th>reviewText</th>\n",
       "      <th>summary</th>\n",
       "      <th>unixReviewTime</th>\n",
       "      <th>vote</th>\n",
       "      <th>style</th>\n",
       "      <th>image</th>\n",
       "    </tr>\n",
       "  </thead>\n",
       "  <tbody>\n",
       "    <tr>\n",
       "      <th>0</th>\n",
       "      <td>4.0</td>\n",
       "      <td>False</td>\n",
       "      <td>2000-01-01</td>\n",
       "      <td>A261TLAGXR52NH</td>\n",
       "      <td>B00002CF8V</td>\n",
       "      <td>THOR (Global Gamer Reviewer/Previewer)</td>\n",
       "      <td>Take Resident Evil,jack its graphics up alot,s...</td>\n",
       "      <td>D*MN NEAR PERFECT!</td>\n",
       "      <td>946684800</td>\n",
       "      <td>6</td>\n",
       "      <td>NaN</td>\n",
       "      <td>NaN</td>\n",
       "    </tr>\n",
       "    <tr>\n",
       "      <th>1</th>\n",
       "      <td>4.0</td>\n",
       "      <td>False</td>\n",
       "      <td>2000-01-01</td>\n",
       "      <td>A261TLAGXR52NH</td>\n",
       "      <td>B00002CF96</td>\n",
       "      <td>THOR (Global Gamer Reviewer/Previewer)</td>\n",
       "      <td>Half-Life:Opposing Force takes place as your c...</td>\n",
       "      <td>Better than the first?</td>\n",
       "      <td>946684800</td>\n",
       "      <td>NaN</td>\n",
       "      <td>NaN</td>\n",
       "      <td>NaN</td>\n",
       "    </tr>\n",
       "    <tr>\n",
       "      <th>2</th>\n",
       "      <td>5.0</td>\n",
       "      <td>False</td>\n",
       "      <td>2000-01-01</td>\n",
       "      <td>A261TLAGXR52NH</td>\n",
       "      <td>B00002CF8U</td>\n",
       "      <td>THOR (Global Gamer Reviewer/Previewer)</td>\n",
       "      <td>GTA2 is set in a futuristic city where you try...</td>\n",
       "      <td>Just read it!</td>\n",
       "      <td>946684800</td>\n",
       "      <td>2</td>\n",
       "      <td>{'Format:': ' Video Game'}</td>\n",
       "      <td>NaN</td>\n",
       "    </tr>\n",
       "  </tbody>\n",
       "</table>\n",
       "</div>"
      ],
      "text/plain": [
       "   overall  verified reviewTime      reviewerID        asin  \\\n",
       "0      4.0     False 2000-01-01  A261TLAGXR52NH  B00002CF8V   \n",
       "1      4.0     False 2000-01-01  A261TLAGXR52NH  B00002CF96   \n",
       "2      5.0     False 2000-01-01  A261TLAGXR52NH  B00002CF8U   \n",
       "\n",
       "                             reviewerName  \\\n",
       "0  THOR (Global Gamer Reviewer/Previewer)   \n",
       "1  THOR (Global Gamer Reviewer/Previewer)   \n",
       "2  THOR (Global Gamer Reviewer/Previewer)   \n",
       "\n",
       "                                          reviewText                 summary  \\\n",
       "0  Take Resident Evil,jack its graphics up alot,s...      D*MN NEAR PERFECT!   \n",
       "1  Half-Life:Opposing Force takes place as your c...  Better than the first?   \n",
       "2  GTA2 is set in a futuristic city where you try...           Just read it!   \n",
       "\n",
       "   unixReviewTime vote                       style image  \n",
       "0       946684800    6                         NaN   NaN  \n",
       "1       946684800  NaN                         NaN   NaN  \n",
       "2       946684800    2  {'Format:': ' Video Game'}   NaN  "
      ]
     },
     "execution_count": 6,
     "metadata": {},
     "output_type": "execute_result"
    }
   ],
   "source": [
    "rating_data.head(3)\n",
    "review_data.head(3)"
   ]
  },
  {
   "cell_type": "markdown",
   "metadata": {},
   "source": [
    "review_data\n",
    "- reviewerID - ID of the reviewer, e.g. A2SUAM1J3GNN3B\n",
    "- asin - ID of the product, e.g. 0000013714\n",
    "- reviewerName - name of the reviewer\n",
    "- vote - helpful votes of the review\n",
    "- style - a disctionary of the product metadata, e.g., \"Format\" is \"Hardcover\"\n",
    "- reviewText - text of the review\n",
    "- overall - rating of the product\n",
    "- summary - summary of the review\n",
    "- unixReviewTime - time of the review (unix time)\n",
    "- reviewTime - time of the review (raw)\n",
    "- image - images that users post after they have received the product\n",
    " \n",
    "rating_data\n",
    "- These datasets include no metadata or reviews, but only (item,user,rating,timestamp) tuples."
   ]
  },
  {
   "cell_type": "markdown",
   "metadata": {},
   "source": [
    "### Join in Review data & Rating data on 'ReviewID'"
   ]
  },
  {
   "cell_type": "code",
   "execution_count": 7,
   "metadata": {
    "ExecuteTime": {
     "end_time": "2021-04-25T18:11:13.289899Z",
     "start_time": "2021-04-25T18:11:13.287866Z"
    }
   },
   "outputs": [],
   "source": [
    "# review_data = review_data.rename(columns={'asin':'ProductID'})\n",
    "# data = rating_data.merge(review_data, how='outer', on='ProductID')\n",
    "# data = data.reset_index(drop=True)\n",
    "# data.head(5)"
   ]
  },
  {
   "cell_type": "markdown",
   "metadata": {},
   "source": [
    "### Filter reviewer & product "
   ]
  },
  {
   "cell_type": "code",
   "execution_count": 8,
   "metadata": {
    "ExecuteTime": {
     "end_time": "2021-04-25T18:11:13.295014Z",
     "start_time": "2021-04-25T18:11:13.291536Z"
    }
   },
   "outputs": [],
   "source": [
    "def review_filters(data, filtered_var, base_var, threshold):\n",
    "    '''\n",
    "    only keep the values of filter_var that meets:\n",
    "    filter_var[base_var].sum() >= threshold\n",
    "    '''\n",
    "    count_df = data[[filtered_var, base_var]].groupby(filtered_var).count()\n",
    "    valid_id = count_df[count_df[base_var]>=threshold].index.tolist()\n",
    "    data = data[data[filtered_var].isin(valid_id)]\n",
    "    return data"
   ]
  },
  {
   "cell_type": "code",
   "execution_count": 9,
   "metadata": {
    "ExecuteTime": {
     "end_time": "2021-04-25T18:11:19.601485Z",
     "start_time": "2021-04-25T18:11:13.296793Z"
    }
   },
   "outputs": [
    {
     "data": {
      "text/html": [
       "<div>\n",
       "<style scoped>\n",
       "    .dataframe tbody tr th:only-of-type {\n",
       "        vertical-align: middle;\n",
       "    }\n",
       "\n",
       "    .dataframe tbody tr th {\n",
       "        vertical-align: top;\n",
       "    }\n",
       "\n",
       "    .dataframe thead th {\n",
       "        text-align: right;\n",
       "    }\n",
       "</style>\n",
       "<table border=\"1\" class=\"dataframe\">\n",
       "  <thead>\n",
       "    <tr style=\"text-align: right;\">\n",
       "      <th></th>\n",
       "      <th>ProductID</th>\n",
       "      <th>ReviewerID</th>\n",
       "      <th>Rating</th>\n",
       "      <th>TimeStamp</th>\n",
       "    </tr>\n",
       "  </thead>\n",
       "  <tbody>\n",
       "    <tr>\n",
       "      <th>0</th>\n",
       "      <td>B0000296ZD</td>\n",
       "      <td>A2O88ZPQKSOWF0</td>\n",
       "      <td>1.0</td>\n",
       "      <td>2000-01-01</td>\n",
       "    </tr>\n",
       "    <tr>\n",
       "      <th>1</th>\n",
       "      <td>B00000K4MC</td>\n",
       "      <td>AMENNPIINM03J</td>\n",
       "      <td>5.0</td>\n",
       "      <td>2000-01-01</td>\n",
       "    </tr>\n",
       "    <tr>\n",
       "      <th>2</th>\n",
       "      <td>B00002S6CC</td>\n",
       "      <td>A11D7B5QADZEMT</td>\n",
       "      <td>1.0</td>\n",
       "      <td>2000-01-01</td>\n",
       "    </tr>\n",
       "    <tr>\n",
       "      <th>3</th>\n",
       "      <td>B00002S6CC</td>\n",
       "      <td>A1S37U1J8H6TN5</td>\n",
       "      <td>3.0</td>\n",
       "      <td>2000-01-01</td>\n",
       "    </tr>\n",
       "    <tr>\n",
       "      <th>4</th>\n",
       "      <td>B00002CF96</td>\n",
       "      <td>A261TLAGXR52NH</td>\n",
       "      <td>4.0</td>\n",
       "      <td>2000-01-01</td>\n",
       "    </tr>\n",
       "  </tbody>\n",
       "</table>\n",
       "</div>"
      ],
      "text/plain": [
       "    ProductID      ReviewerID  Rating  TimeStamp\n",
       "0  B0000296ZD  A2O88ZPQKSOWF0     1.0 2000-01-01\n",
       "1  B00000K4MC   AMENNPIINM03J     5.0 2000-01-01\n",
       "2  B00002S6CC  A11D7B5QADZEMT     1.0 2000-01-01\n",
       "3  B00002S6CC  A1S37U1J8H6TN5     3.0 2000-01-01\n",
       "4  B00002CF96  A261TLAGXR52NH     4.0 2000-01-01"
      ]
     },
     "execution_count": 9,
     "metadata": {},
     "output_type": "execute_result"
    },
    {
     "data": {
      "text/plain": [
       "0.8962778968000917"
      ]
     },
     "execution_count": 9,
     "metadata": {},
     "output_type": "execute_result"
    }
   ],
   "source": [
    "before_filtering = len(rating_data)\n",
    "\n",
    "data = review_filters(rating_data, 'ReviewerID', 'TimeStamp', 5) \n",
    "# only keep the reviewer that has more than 5 ratings\n",
    "data = review_filters(rating_data, 'ProductID', 'TimeStamp', 20) \n",
    "# only keep the product that has more than 20 ratings\n",
    "\n",
    "\n",
    "data = data.reset_index(drop=True)\n",
    "after_filtering = len(data)\n",
    "data.head(5)\n",
    "\n",
    "after_filtering/before_filtering"
   ]
  },
  {
   "cell_type": "markdown",
   "metadata": {},
   "source": [
    "### Save the data to RES_DIR"
   ]
  },
  {
   "cell_type": "code",
   "execution_count": 10,
   "metadata": {
    "ExecuteTime": {
     "end_time": "2021-04-25T18:11:20.402771Z",
     "start_time": "2021-04-25T18:11:19.605198Z"
    }
   },
   "outputs": [],
   "source": [
    "with open(os.path.join(PRE_DIR, 'rating_data.pkl'), 'wb') as f:\n",
    "    pickle.dump(data, f)"
   ]
  }
 ],
 "metadata": {
  "gist": {
   "data": {
    "description": "Desktop/recommender/main_pj.ipynb",
    "public": false
   },
   "id": ""
  },
  "hide_input": false,
  "kernelspec": {
   "display_name": "Python 3",
   "language": "python",
   "name": "python3"
  },
  "language_info": {
   "codemirror_mode": {
    "name": "ipython",
    "version": 3
   },
   "file_extension": ".py",
   "mimetype": "text/x-python",
   "name": "python",
   "nbconvert_exporter": "python",
   "pygments_lexer": "ipython3",
   "version": "3.8.3"
  },
  "latex_envs": {
   "LaTeX_envs_menu_present": true,
   "autoclose": false,
   "autocomplete": true,
   "bibliofile": "biblio.bib",
   "cite_by": "apalike",
   "current_citInitial": 1,
   "eqLabelWithNumbers": true,
   "eqNumInitial": 1,
   "hotkeys": {
    "equation": "Ctrl-E",
    "itemize": "Ctrl-I"
   },
   "labels_anchors": false,
   "latex_user_defs": false,
   "report_style_numbering": false,
   "user_envs_cfg": false
  },
  "nbTranslate": {
   "displayLangs": [
    "*"
   ],
   "hotkey": "alt-t",
   "langInMainMenu": true,
   "sourceLang": "en",
   "targetLang": "fr",
   "useGoogleTranslate": true
  },
  "toc": {
   "base_numbering": 1,
   "nav_menu": {},
   "number_sections": true,
   "sideBar": true,
   "skip_h1_title": false,
   "title_cell": "Table of Contents",
   "title_sidebar": "Contents",
   "toc_cell": true,
   "toc_position": {},
   "toc_section_display": true,
   "toc_window_display": true
  },
  "varInspector": {
   "cols": {
    "lenName": 16,
    "lenType": 16,
    "lenVar": 40
   },
   "kernels_config": {
    "python": {
     "delete_cmd_postfix": "",
     "delete_cmd_prefix": "del ",
     "library": "var_list.py",
     "varRefreshCmd": "print(var_dic_list())"
    },
    "r": {
     "delete_cmd_postfix": ") ",
     "delete_cmd_prefix": "rm(",
     "library": "var_list.r",
     "varRefreshCmd": "cat(var_dic_list()) "
    }
   },
   "types_to_exclude": [
    "module",
    "function",
    "builtin_function_or_method",
    "instance",
    "_Feature"
   ],
   "window_display": false
  }
 },
 "nbformat": 4,
 "nbformat_minor": 4
}
