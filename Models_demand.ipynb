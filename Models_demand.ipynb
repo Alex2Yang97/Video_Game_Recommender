{
 "cells": [
  {
   "cell_type": "markdown",
   "metadata": {
    "toc": true
   },
   "source": [
    "<h1>Table of Contents<span class=\"tocSkip\"></span></h1>\n",
    "<div class=\"toc\"><ul class=\"toc-item\"><li><span><a href=\"#Load-Data\" data-toc-modified-id=\"Load-Data-1\"><span class=\"toc-item-num\">1&nbsp;&nbsp;</span>Load Data</a></span></li><li><span><a href=\"#Try-different-model\" data-toc-modified-id=\"Try-different-model-2\"><span class=\"toc-item-num\">2&nbsp;&nbsp;</span>Try different model</a></span><ul class=\"toc-item\"><li><span><a href=\"#BaselineOnly\" data-toc-modified-id=\"BaselineOnly-2.1\"><span class=\"toc-item-num\">2.1&nbsp;&nbsp;</span>BaselineOnly</a></span></li><li><span><a href=\"#Biased-SGD-model\" data-toc-modified-id=\"Biased-SGD-model-2.2\"><span class=\"toc-item-num\">2.2&nbsp;&nbsp;</span>Biased SGD model</a></span></li><li><span><a href=\"#KNNBasic\" data-toc-modified-id=\"KNNBasic-2.3\"><span class=\"toc-item-num\">2.3&nbsp;&nbsp;</span>KNNBasic</a></span></li></ul></li></ul></div>"
   ]
  },
  {
   "cell_type": "markdown",
   "metadata": {},
   "source": [
    "# Load Data"
   ]
  },
  {
   "cell_type": "code",
   "execution_count": 1,
   "metadata": {},
   "outputs": [],
   "source": [
    "import os\n",
    "import pickle\n",
    "import pandas as pd\n",
    "\n",
    "import matplotlib.pyplot as plt\n",
    "\n",
    "from config import RAW_DIR, PRE_DIR, RES_DIR\n",
    "from utils.data_porter import read_from_csv, save_to_csv\n",
    "\n",
    "from IPython.core.interactiveshell import InteractiveShell\n",
    "InteractiveShell.ast_node_interactivity = \"all\" "
   ]
  },
  {
   "cell_type": "code",
   "execution_count": 2,
   "metadata": {
    "scrolled": false
   },
   "outputs": [
    {
     "data": {
      "text/html": [
       "<div>\n",
       "<style scoped>\n",
       "    .dataframe tbody tr th:only-of-type {\n",
       "        vertical-align: middle;\n",
       "    }\n",
       "\n",
       "    .dataframe tbody tr th {\n",
       "        vertical-align: top;\n",
       "    }\n",
       "\n",
       "    .dataframe thead th {\n",
       "        text-align: right;\n",
       "    }\n",
       "</style>\n",
       "<table border=\"1\" class=\"dataframe\">\n",
       "  <thead>\n",
       "    <tr style=\"text-align: right;\">\n",
       "      <th></th>\n",
       "      <th>overall</th>\n",
       "      <th>asin</th>\n",
       "      <th>reviewTime</th>\n",
       "      <th>reviewerID</th>\n",
       "      <th>reviewerName</th>\n",
       "      <th>reviewText</th>\n",
       "      <th>summary</th>\n",
       "      <th>num_review_ps</th>\n",
       "      <th>num_review_gm</th>\n",
       "    </tr>\n",
       "  </thead>\n",
       "  <tbody>\n",
       "    <tr>\n",
       "      <th>0</th>\n",
       "      <td>5.0</td>\n",
       "      <td>B0000296O5</td>\n",
       "      <td>1999-10-14</td>\n",
       "      <td>A2AXQTB83VMK4L</td>\n",
       "      <td>Amazon Customer</td>\n",
       "      <td>I'm having the most fun I've ever had on PlayS...</td>\n",
       "      <td>Best RPG Ever!</td>\n",
       "      <td>6</td>\n",
       "      <td>268</td>\n",
       "    </tr>\n",
       "    <tr>\n",
       "      <th>1</th>\n",
       "      <td>4.0</td>\n",
       "      <td>B00002NDRY</td>\n",
       "      <td>1999-11-05</td>\n",
       "      <td>A2T04VAIXSKJH2</td>\n",
       "      <td>Stefan</td>\n",
       "      <td>I'm usually not crazy about real-time strategy...</td>\n",
       "      <td>Good real time strategy game</td>\n",
       "      <td>6</td>\n",
       "      <td>67</td>\n",
       "    </tr>\n",
       "    <tr>\n",
       "      <th>2</th>\n",
       "      <td>5.0</td>\n",
       "      <td>B000021Y5F</td>\n",
       "      <td>1999-11-10</td>\n",
       "      <td>A1QA8K3LD9K892</td>\n",
       "      <td>Chris Adamson</td>\n",
       "      <td>Williams made games for hard-core arcade gamer...</td>\n",
       "      <td>A cool 80's artifact</td>\n",
       "      <td>23</td>\n",
       "      <td>7</td>\n",
       "    </tr>\n",
       "    <tr>\n",
       "      <th>3</th>\n",
       "      <td>4.0</td>\n",
       "      <td>B00000JL6V</td>\n",
       "      <td>1999-11-10</td>\n",
       "      <td>AMGJMFJ63DWWH</td>\n",
       "      <td>Ed Matuskey</td>\n",
       "      <td>Once again you put your hand to the book, and ...</td>\n",
       "      <td>Beautiful game, with excellent (and hard!) puz...</td>\n",
       "      <td>5</td>\n",
       "      <td>37</td>\n",
       "    </tr>\n",
       "    <tr>\n",
       "      <th>4</th>\n",
       "      <td>5.0</td>\n",
       "      <td>B00000K4AX</td>\n",
       "      <td>1999-11-10</td>\n",
       "      <td>A3VWWQT4XDSBGQ</td>\n",
       "      <td>Joshua W. Fenton</td>\n",
       "      <td>If you loved Half-Life, this is a must buy. I ...</td>\n",
       "      <td>AWESOME!</td>\n",
       "      <td>5</td>\n",
       "      <td>26</td>\n",
       "    </tr>\n",
       "  </tbody>\n",
       "</table>\n",
       "</div>"
      ],
      "text/plain": [
       "   overall        asin reviewTime      reviewerID      reviewerName  \\\n",
       "0      5.0  B0000296O5 1999-10-14  A2AXQTB83VMK4L   Amazon Customer   \n",
       "1      4.0  B00002NDRY 1999-11-05  A2T04VAIXSKJH2            Stefan   \n",
       "2      5.0  B000021Y5F 1999-11-10  A1QA8K3LD9K892     Chris Adamson   \n",
       "3      4.0  B00000JL6V 1999-11-10   AMGJMFJ63DWWH       Ed Matuskey   \n",
       "4      5.0  B00000K4AX 1999-11-10  A3VWWQT4XDSBGQ  Joshua W. Fenton   \n",
       "\n",
       "                                          reviewText  \\\n",
       "0  I'm having the most fun I've ever had on PlayS...   \n",
       "1  I'm usually not crazy about real-time strategy...   \n",
       "2  Williams made games for hard-core arcade gamer...   \n",
       "3  Once again you put your hand to the book, and ...   \n",
       "4  If you loved Half-Life, this is a must buy. I ...   \n",
       "\n",
       "                                             summary  num_review_ps  \\\n",
       "0                                     Best RPG Ever!              6   \n",
       "1                       Good real time strategy game              6   \n",
       "2                               A cool 80's artifact             23   \n",
       "3  Beautiful game, with excellent (and hard!) puz...              5   \n",
       "4                                           AWESOME!              5   \n",
       "\n",
       "   num_review_gm  \n",
       "0            268  \n",
       "1             67  \n",
       "2              7  \n",
       "3             37  \n",
       "4             26  "
      ]
     },
     "execution_count": 2,
     "metadata": {},
     "output_type": "execute_result"
    },
    {
     "data": {
      "text/html": [
       "<div>\n",
       "<style scoped>\n",
       "    .dataframe tbody tr th:only-of-type {\n",
       "        vertical-align: middle;\n",
       "    }\n",
       "\n",
       "    .dataframe tbody tr th {\n",
       "        vertical-align: top;\n",
       "    }\n",
       "\n",
       "    .dataframe thead th {\n",
       "        text-align: right;\n",
       "    }\n",
       "</style>\n",
       "<table border=\"1\" class=\"dataframe\">\n",
       "  <thead>\n",
       "    <tr style=\"text-align: right;\">\n",
       "      <th></th>\n",
       "      <th>overall</th>\n",
       "      <th>asin</th>\n",
       "      <th>reviewTime</th>\n",
       "      <th>reviewerID</th>\n",
       "      <th>reviewerName</th>\n",
       "      <th>reviewText</th>\n",
       "      <th>summary</th>\n",
       "      <th>num_review_ps</th>\n",
       "      <th>num_review_gm</th>\n",
       "    </tr>\n",
       "  </thead>\n",
       "  <tbody>\n",
       "    <tr>\n",
       "      <th>424371</th>\n",
       "      <td>3.0</td>\n",
       "      <td>B00L59D9HG</td>\n",
       "      <td>2017-01-16</td>\n",
       "      <td>A1JO2IPCY1J4PS</td>\n",
       "      <td>Honest Frizz</td>\n",
       "      <td>No problem at all with the charger itself.  It...</td>\n",
       "      <td>You have to buy it Separately</td>\n",
       "      <td>5</td>\n",
       "      <td>390</td>\n",
       "    </tr>\n",
       "    <tr>\n",
       "      <th>424372</th>\n",
       "      <td>5.0</td>\n",
       "      <td>B00005ATSN</td>\n",
       "      <td>2017-01-16</td>\n",
       "      <td>ANVJU2ROVJC8A</td>\n",
       "      <td>Jemi Linked</td>\n",
       "      <td>Great game!</td>\n",
       "      <td>LOZ forever!</td>\n",
       "      <td>9</td>\n",
       "      <td>38</td>\n",
       "    </tr>\n",
       "    <tr>\n",
       "      <th>424373</th>\n",
       "      <td>5.0</td>\n",
       "      <td>B015OYM10I</td>\n",
       "      <td>2017-01-16</td>\n",
       "      <td>A19K4H7U79QKE0</td>\n",
       "      <td>Rafael Quintero</td>\n",
       "      <td>Awesome!</td>\n",
       "      <td>Five Stars</td>\n",
       "      <td>11</td>\n",
       "      <td>45</td>\n",
       "    </tr>\n",
       "    <tr>\n",
       "      <th>424374</th>\n",
       "      <td>5.0</td>\n",
       "      <td>B00Y4S5KPY</td>\n",
       "      <td>2017-01-16</td>\n",
       "      <td>A11JVJHDF59HJC</td>\n",
       "      <td>Hammerton</td>\n",
       "      <td>Son loves it and works with other razer color ...</td>\n",
       "      <td>Five Stars</td>\n",
       "      <td>7</td>\n",
       "      <td>119</td>\n",
       "    </tr>\n",
       "    <tr>\n",
       "      <th>424375</th>\n",
       "      <td>1.0</td>\n",
       "      <td>B00O4FOB3O</td>\n",
       "      <td>2017-01-16</td>\n",
       "      <td>A1JXGU255ZN7JJ</td>\n",
       "      <td>MasterBlaster</td>\n",
       "      <td>I'm updating my review after having used these...</td>\n",
       "      <td>great to start but...</td>\n",
       "      <td>8</td>\n",
       "      <td>31</td>\n",
       "    </tr>\n",
       "  </tbody>\n",
       "</table>\n",
       "</div>"
      ],
      "text/plain": [
       "        overall        asin reviewTime      reviewerID     reviewerName  \\\n",
       "424371      3.0  B00L59D9HG 2017-01-16  A1JO2IPCY1J4PS     Honest Frizz   \n",
       "424372      5.0  B00005ATSN 2017-01-16   ANVJU2ROVJC8A      Jemi Linked   \n",
       "424373      5.0  B015OYM10I 2017-01-16  A19K4H7U79QKE0  Rafael Quintero   \n",
       "424374      5.0  B00Y4S5KPY 2017-01-16  A11JVJHDF59HJC        Hammerton   \n",
       "424375      1.0  B00O4FOB3O 2017-01-16  A1JXGU255ZN7JJ    MasterBlaster   \n",
       "\n",
       "                                               reviewText  \\\n",
       "424371  No problem at all with the charger itself.  It...   \n",
       "424372                                        Great game!   \n",
       "424373                                           Awesome!   \n",
       "424374  Son loves it and works with other razer color ...   \n",
       "424375  I'm updating my review after having used these...   \n",
       "\n",
       "                              summary  num_review_ps  num_review_gm  \n",
       "424371  You have to buy it Separately              5            390  \n",
       "424372                   LOZ forever!              9             38  \n",
       "424373                     Five Stars             11             45  \n",
       "424374                     Five Stars              7            119  \n",
       "424375          great to start but...              8             31  "
      ]
     },
     "execution_count": 2,
     "metadata": {},
     "output_type": "execute_result"
    }
   ],
   "source": [
    "# 加载数据\n",
    "\n",
    "with open(os.path.join(PRE_DIR, 'train_data.pkl'), 'rb') as f:\n",
    "    train_data = pickle.load(f)\n",
    "train_data.head()\n",
    "\n",
    "with open(os.path.join(PRE_DIR, 'test_data.pkl'), 'rb') as f:\n",
    "    test_data = pickle.load(f)\n",
    "test_data.head()"
   ]
  },
  {
   "cell_type": "code",
   "execution_count": 3,
   "metadata": {},
   "outputs": [
    {
     "data": {
      "text/plain": [
       "(424371, 9)"
      ]
     },
     "execution_count": 3,
     "metadata": {},
     "output_type": "execute_result"
    },
    {
     "data": {
      "text/plain": [
       "(42438, 9)"
      ]
     },
     "execution_count": 3,
     "metadata": {},
     "output_type": "execute_result"
    },
    {
     "data": {
      "text/plain": [
       "(381933, 9)"
      ]
     },
     "execution_count": 3,
     "metadata": {},
     "output_type": "execute_result"
    }
   ],
   "source": [
    "train_data.shape\n",
    "val_data = train_data.iloc[int(train_data.shape[0]*0.9):]\n",
    "val_data.shape\n",
    "train_data = train_data.iloc[:int(train_data.shape[0]*0.9)]\n",
    "train_data.shape"
   ]
  },
  {
   "cell_type": "code",
   "execution_count": 4,
   "metadata": {},
   "outputs": [],
   "source": [
    "train_rate = train_data[['asin', 'reviewerID', 'overall']]\n",
    "val_rate = val_data[['asin', 'reviewerID', 'overall']]\n",
    "test_rate = test_data[['asin', 'reviewerID', 'overall']]"
   ]
  },
  {
   "cell_type": "markdown",
   "metadata": {},
   "source": [
    "# Try different model"
   ]
  },
  {
   "cell_type": "code",
   "execution_count": 5,
   "metadata": {},
   "outputs": [],
   "source": [
    "from surprise import SVD\n",
    "from surprise import accuracy\n",
    "from surprise import Reader\n",
    "from surprise.model_selection import GridSearchCV\n",
    "from surprise import Dataset\n",
    "from surprise import BaselineOnly\n",
    "from surprise import KNNBaseline\n",
    "\n",
    "from sklearn.metrics import r2_score\n",
    "from sklearn.metrics import mean_absolute_error as mae"
   ]
  },
  {
   "cell_type": "code",
   "execution_count": 6,
   "metadata": {},
   "outputs": [],
   "source": [
    "reader = Reader(rating_scale = (0.0, 5.0))\n",
    "train_set = Dataset.load_from_df(train_rate, reader).build_full_trainset()\n",
    "val_set = Dataset.load_from_df(val_rate, reader).build_full_trainset().build_testset()\n",
    "test_set = Dataset.load_from_df(test_rate, reader).build_full_trainset().build_testset()"
   ]
  },
  {
   "cell_type": "code",
   "execution_count": 7,
   "metadata": {},
   "outputs": [],
   "source": [
    "def print_metrics_sp(predictions):\n",
    "    mae_score = accuracy.mae(predictions)\n",
    "    mse_score = accuracy.mse(predictions)\n",
    "    return mae_score, mse_score"
   ]
  },
  {
   "cell_type": "markdown",
   "metadata": {},
   "source": [
    "## BaselineOnly"
   ]
  },
  {
   "cell_type": "code",
   "execution_count": 8,
   "metadata": {},
   "outputs": [],
   "source": [
    "new_train_rate = pd.concat([train_rate, val_rate])\n",
    "new_train_set = Dataset.load_from_df(new_train_rate, reader).build_full_trainset()"
   ]
  },
  {
   "cell_type": "code",
   "execution_count": 9,
   "metadata": {},
   "outputs": [
    {
     "data": {
      "text/html": [
       "<div>\n",
       "<style scoped>\n",
       "    .dataframe tbody tr th:only-of-type {\n",
       "        vertical-align: middle;\n",
       "    }\n",
       "\n",
       "    .dataframe tbody tr th {\n",
       "        vertical-align: top;\n",
       "    }\n",
       "\n",
       "    .dataframe thead th {\n",
       "        text-align: right;\n",
       "    }\n",
       "</style>\n",
       "<table border=\"1\" class=\"dataframe\">\n",
       "  <thead>\n",
       "    <tr style=\"text-align: right;\">\n",
       "      <th></th>\n",
       "      <th>asin</th>\n",
       "      <th>reviewerID</th>\n",
       "      <th>overall</th>\n",
       "    </tr>\n",
       "  </thead>\n",
       "  <tbody>\n",
       "    <tr>\n",
       "      <th>0</th>\n",
       "      <td>B0000296O5</td>\n",
       "      <td>A2AXQTB83VMK4L</td>\n",
       "      <td>5.0</td>\n",
       "    </tr>\n",
       "    <tr>\n",
       "      <th>1</th>\n",
       "      <td>B00002NDRY</td>\n",
       "      <td>A2T04VAIXSKJH2</td>\n",
       "      <td>4.0</td>\n",
       "    </tr>\n",
       "    <tr>\n",
       "      <th>2</th>\n",
       "      <td>B000021Y5F</td>\n",
       "      <td>A1QA8K3LD9K892</td>\n",
       "      <td>5.0</td>\n",
       "    </tr>\n",
       "    <tr>\n",
       "      <th>3</th>\n",
       "      <td>B00000JL6V</td>\n",
       "      <td>AMGJMFJ63DWWH</td>\n",
       "      <td>4.0</td>\n",
       "    </tr>\n",
       "    <tr>\n",
       "      <th>4</th>\n",
       "      <td>B00000K4AX</td>\n",
       "      <td>A3VWWQT4XDSBGQ</td>\n",
       "      <td>5.0</td>\n",
       "    </tr>\n",
       "  </tbody>\n",
       "</table>\n",
       "</div>"
      ],
      "text/plain": [
       "         asin      reviewerID  overall\n",
       "0  B0000296O5  A2AXQTB83VMK4L      5.0\n",
       "1  B00002NDRY  A2T04VAIXSKJH2      4.0\n",
       "2  B000021Y5F  A1QA8K3LD9K892      5.0\n",
       "3  B00000JL6V   AMGJMFJ63DWWH      4.0\n",
       "4  B00000K4AX  A3VWWQT4XDSBGQ      5.0"
      ]
     },
     "execution_count": 9,
     "metadata": {},
     "output_type": "execute_result"
    }
   ],
   "source": [
    "new_train_rate.head()"
   ]
  },
  {
   "cell_type": "code",
   "execution_count": 10,
   "metadata": {
    "scrolled": true
   },
   "outputs": [
    {
     "name": "stdout",
     "output_type": "stream",
     "text": [
      "Estimating biases using als...\n"
     ]
    },
    {
     "data": {
      "text/plain": [
       "<surprise.prediction_algorithms.baseline_only.BaselineOnly at 0x7fd18af0ca10>"
      ]
     },
     "execution_count": 10,
     "metadata": {},
     "output_type": "execute_result"
    },
    {
     "name": "stdout",
     "output_type": "stream",
     "text": [
      "MAE:  0.8497\n",
      "MSE: 1.2221\n"
     ]
    }
   ],
   "source": [
    "bsl_options = {\n",
    "    'method': 'als',\n",
    "    'n_factors':200, \n",
    "    'n_epochs':30,\n",
    "    'lr_all':0.005,\n",
    "    'reg_all':0.1\n",
    "}\n",
    "bias_baseline = BaselineOnly(bsl_options)\n",
    "bias_baseline.fit(new_train_set)\n",
    "predictions = bias_baseline.test(test_set)\n",
    "\n",
    "_, _ = print_metrics_sp(predictions)"
   ]
  },
  {
   "cell_type": "code",
   "execution_count": 2,
   "metadata": {
    "scrolled": true
   },
   "outputs": [],
   "source": [
    "# # 设置超参数列表进行网格搜索法调参\n",
    "\n",
    "\n",
    "# para\tmae\tmse\n",
    "# 0\t10,0.1\t0.84506\t1.193916\n",
    "# 1\t10,0.3\t0.84506\t1.193916\n",
    "# 2\t10,0.5\t0.84506\t1.193916\n",
    "# 3\t20,0.1\t0.84506\t1.193916\n",
    "# 4\t20,0.3\t0.84506\t1.193916\n",
    "# 5\t20,0.5\t0.84506\t1.193916\n",
    "# 6\t50,0.1\t0.84506\t1.193916\n",
    "# 7\t50,0.3\t0.84506\t1.193916\n",
    "# 8\t50,0.5\t0.84506\t1.193916"
   ]
  },
  {
   "cell_type": "code",
   "execution_count": 64,
   "metadata": {
    "scrolled": false
   },
   "outputs": [
    {
     "name": "stdout",
     "output_type": "stream",
     "text": [
      "Estimating biases using als...\n"
     ]
    },
    {
     "data": {
      "text/plain": [
       "<surprise.prediction_algorithms.baseline_only.BaselineOnly at 0x7fd18deda690>"
      ]
     },
     "execution_count": 64,
     "metadata": {},
     "output_type": "execute_result"
    },
    {
     "name": "stdout",
     "output_type": "stream",
     "text": [
      "MAE:  0.8497\n",
      "MSE: 1.2221\n"
     ]
    }
   ],
   "source": [
    "# 测试集\n",
    "\n",
    "bsl_options = {\n",
    "    'method': 'als',\n",
    "    'n_factors':200, \n",
    "    'n_epochs':30,\n",
    "    'lr_all':0.005,\n",
    "    'reg_all':0.1\n",
    "}\n",
    "bias_baseline = BaselineOnly(bsl_options)\n",
    "bias_baseline.fit(new_train_set)\n",
    "predictions = bias_baseline.test(test_set)\n",
    "\n",
    "_, _ = print_metrics_sp(predictions)"
   ]
  },
  {
   "cell_type": "markdown",
   "metadata": {},
   "source": [
    "## Biased SGD model"
   ]
  },
  {
   "cell_type": "code",
   "execution_count": 29,
   "metadata": {
    "scrolled": true
   },
   "outputs": [
    {
     "data": {
      "text/plain": [
       "<surprise.prediction_algorithms.matrix_factorization.SVD at 0x7fd16554b150>"
      ]
     },
     "execution_count": 29,
     "metadata": {},
     "output_type": "execute_result"
    },
    {
     "name": "stdout",
     "output_type": "stream",
     "text": [
      "MAE:  0.8419\n",
      "MSE: 1.2388\n"
     ]
    },
    {
     "data": {
      "text/plain": [
       "(0.8419392576060248, 1.2387782765269668)"
      ]
     },
     "execution_count": 29,
     "metadata": {},
     "output_type": "execute_result"
    }
   ],
   "source": [
    "bias_sgd = SVD(n_factors=200, n_epochs=30, lr_all=0.005, reg_all=0.02)\n",
    "bias_sgd.fit(new_train_set)\n",
    "predictions = bias_sgd.test(test_set)\n",
    "print_metrics_sp(predictions)"
   ]
  },
  {
   "cell_type": "code",
   "execution_count": 3,
   "metadata": {
    "scrolled": true
   },
   "outputs": [],
   "source": [
    "# \tpara\tmae\tmse\n",
    "# 0\t10,0.01\t0.821631\t1.186248\n",
    "# 1\t10,0.02\t0.822572\t1.186152\n",
    "# 2\t10,0.03\t0.822677\t1.184347\n",
    "# 3\t10,0.05\t0.823190\t1.182164\n",
    "# 4\t50,0.03\t0.825971\t1.188587\n",
    "# 5\t50,0.02\t0.826106\t1.192792\n",
    "# 6\t50,0.01\t0.826516\t1.195176\n",
    "# 7\t50,0.05\t0.826520\t1.186558\n",
    "# 8\t100,0.05\t0.829048\t1.190026\n",
    "# 9\t100,0.03\t0.829188\t1.196336\n",
    "# 10\t100,0.02\t0.830709\t1.200818\n",
    "# 11\t100,0.01\t0.830784\t1.200338\n",
    "# 12\t200,0.05\t0.835201\t1.198558\n",
    "# 13\t200,0.02\t0.836951\t1.208555\n",
    "# 14\t200,0.01\t0.837601\t1.212817\n",
    "# 15\t200,0.03\t0.838725\t1.208075"
   ]
  },
  {
   "cell_type": "code",
   "execution_count": 67,
   "metadata": {
    "scrolled": true
   },
   "outputs": [
    {
     "data": {
      "text/plain": [
       "<surprise.prediction_algorithms.matrix_factorization.SVD at 0x7fd18fd0df90>"
      ]
     },
     "execution_count": 67,
     "metadata": {},
     "output_type": "execute_result"
    },
    {
     "name": "stdout",
     "output_type": "stream",
     "text": [
      "MAE:  0.8290\n",
      "MSE: 1.2214\n"
     ]
    },
    {
     "data": {
      "text/plain": [
       "(0.8290480470206647, 1.2213790113726917)"
      ]
     },
     "execution_count": 67,
     "metadata": {},
     "output_type": "execute_result"
    }
   ],
   "source": [
    "# 测试集\n",
    "\n",
    "bias_sgd = SVD(n_factors=10, n_epochs=30, lr_all=0.005, reg_all=0.01)\n",
    "bias_sgd.fit(new_train_set)\n",
    "predictions = bias_sgd.test(test_set)\n",
    "print_metrics_sp(predictions)"
   ]
  },
  {
   "cell_type": "markdown",
   "metadata": {},
   "source": [
    "## KNNBasic"
   ]
  },
  {
   "cell_type": "code",
   "execution_count": 47,
   "metadata": {
    "scrolled": false
   },
   "outputs": [
    {
     "name": "stdout",
     "output_type": "stream",
     "text": [
      "Estimating biases using als...\n",
      "Computing the msd similarity matrix...\n",
      "Done computing similarity matrix.\n"
     ]
    },
    {
     "data": {
      "text/plain": [
       "<surprise.prediction_algorithms.knns.KNNBaseline at 0x7fd18b084f10>"
      ]
     },
     "execution_count": 47,
     "metadata": {},
     "output_type": "execute_result"
    },
    {
     "name": "stdout",
     "output_type": "stream",
     "text": [
      "MAE:  0.8447\n",
      "MSE: 1.3351\n"
     ]
    },
    {
     "data": {
      "text/plain": [
       "(0.8446775544982594, 1.3351487067036343)"
      ]
     },
     "execution_count": 47,
     "metadata": {},
     "output_type": "execute_result"
    }
   ],
   "source": [
    "knn_model = KNNBaseline(k=40, min_k=1)\n",
    "knn_model.fit(new_train_set)\n",
    "predictions = knn_model.test(test_set)\n",
    "print_metrics_sp(predictions)"
   ]
  },
  {
   "cell_type": "code",
   "execution_count": 4,
   "metadata": {
    "scrolled": true
   },
   "outputs": [],
   "source": [
    "# \tpara\tmae\tmse\n",
    "# 0\t50,2\t0.834428\t1.198282\n",
    "# 1\t100,2\t0.834839\t1.198560\n",
    "# 2\t100,10\t0.834841\t1.198160\n",
    "# 3\t200,2\t0.834881\t1.198294\n",
    "# 4\t50,10\t0.834953\t1.198495\n",
    "# 5\t300,1\t0.835049\t1.197721\n",
    "# 6\t200,1\t0.835081\t1.197317\n",
    "# 7\t200,3\t0.835127\t1.197259\n",
    "# 8\t300,10\t0.835300\t1.199509\n",
    "# 9\t50,1\t0.835386\t1.199700\n",
    "# 10\t300,2\t0.835397\t1.198938\n",
    "# 11\t200,10\t0.835421\t1.198375\n",
    "# 12\t300,3\t0.835599\t1.198046\n",
    "# 13\t50,3\t0.835720\t1.200810\n",
    "# 14\t100,1\t0.835840\t1.199276\n",
    "# 15\t100,3\t0.835919\t1.198542"
   ]
  },
  {
   "cell_type": "code",
   "execution_count": 70,
   "metadata": {},
   "outputs": [
    {
     "name": "stdout",
     "output_type": "stream",
     "text": [
      "Estimating biases using als...\n",
      "Computing the msd similarity matrix...\n",
      "Done computing similarity matrix.\n"
     ]
    },
    {
     "data": {
      "text/plain": [
       "<surprise.prediction_algorithms.knns.KNNBaseline at 0x7fd13c138a10>"
      ]
     },
     "execution_count": 70,
     "metadata": {},
     "output_type": "execute_result"
    },
    {
     "name": "stdout",
     "output_type": "stream",
     "text": [
      "MAE:  0.8421\n",
      "MSE: 1.2509\n"
     ]
    },
    {
     "data": {
      "text/plain": [
       "(0.8421157020089943, 1.2508704827986867)"
      ]
     },
     "execution_count": 70,
     "metadata": {},
     "output_type": "execute_result"
    }
   ],
   "source": [
    "# 测试集\n",
    "\n",
    "knn_model = KNNBaseline(k=50, min_k=2)\n",
    "knn_model.fit(new_train_set)\n",
    "predictions = knn_model.test(test_set)\n",
    "print_metrics_sp(predictions)"
   ]
  },
  {
   "cell_type": "code",
   "execution_count": null,
   "metadata": {},
   "outputs": [],
   "source": []
  }
 ],
 "metadata": {
  "kernelspec": {
   "display_name": "Python [conda env:py_tf]",
   "language": "python",
   "name": "conda-env-py_tf-py"
  },
  "language_info": {
   "codemirror_mode": {
    "name": "ipython",
    "version": 3
   },
   "file_extension": ".py",
   "mimetype": "text/x-python",
   "name": "python",
   "nbconvert_exporter": "python",
   "pygments_lexer": "ipython3",
   "version": "3.7.10"
  },
  "toc": {
   "base_numbering": 1,
   "nav_menu": {},
   "number_sections": true,
   "sideBar": true,
   "skip_h1_title": false,
   "title_cell": "Table of Contents",
   "title_sidebar": "Contents",
   "toc_cell": true,
   "toc_position": {
    "height": "calc(100% - 180px)",
    "left": "10px",
    "top": "150px",
    "width": "288px"
   },
   "toc_section_display": true,
   "toc_window_display": true
  },
  "varInspector": {
   "cols": {
    "lenName": 16,
    "lenType": 16,
    "lenVar": 40
   },
   "kernels_config": {
    "python": {
     "delete_cmd_postfix": "",
     "delete_cmd_prefix": "del ",
     "library": "var_list.py",
     "varRefreshCmd": "print(var_dic_list())"
    },
    "r": {
     "delete_cmd_postfix": ") ",
     "delete_cmd_prefix": "rm(",
     "library": "var_list.r",
     "varRefreshCmd": "cat(var_dic_list()) "
    }
   },
   "types_to_exclude": [
    "module",
    "function",
    "builtin_function_or_method",
    "instance",
    "_Feature"
   ],
   "window_display": false
  }
 },
 "nbformat": 4,
 "nbformat_minor": 4
}
