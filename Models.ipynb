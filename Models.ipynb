{
 "cells": [
  {
   "cell_type": "markdown",
   "metadata": {
    "toc": true
   },
   "source": [
    "<h1>Table of Contents<span class=\"tocSkip\"></span></h1>\n",
    "<div class=\"toc\"><ul class=\"toc-item\"><li><span><a href=\"#Load-Data\" data-toc-modified-id=\"Load-Data-1\"><span class=\"toc-item-num\">1&nbsp;&nbsp;</span>Load Data</a></span></li><li><span><a href=\"#Try-different-model\" data-toc-modified-id=\"Try-different-model-2\"><span class=\"toc-item-num\">2&nbsp;&nbsp;</span>Try different model</a></span><ul class=\"toc-item\"><li><span><a href=\"#BaselineOnly\" data-toc-modified-id=\"BaselineOnly-2.1\"><span class=\"toc-item-num\">2.1&nbsp;&nbsp;</span>BaselineOnly</a></span></li><li><span><a href=\"#Biased-SGD-model\" data-toc-modified-id=\"Biased-SGD-model-2.2\"><span class=\"toc-item-num\">2.2&nbsp;&nbsp;</span>Biased SGD model</a></span></li><li><span><a href=\"#KNNBasic\" data-toc-modified-id=\"KNNBasic-2.3\"><span class=\"toc-item-num\">2.3&nbsp;&nbsp;</span>KNNBasic</a></span></li></ul></li></ul></div>"
   ]
  },
  {
   "cell_type": "markdown",
   "metadata": {},
   "source": [
    "# Load Data"
   ]
  },
  {
   "cell_type": "code",
   "execution_count": 1,
   "metadata": {},
   "outputs": [],
   "source": [
    "import os\n",
    "import pickle\n",
    "import pandas as pd\n",
    "\n",
    "import matplotlib.pyplot as plt\n",
    "\n",
    "from config import RAW_DIR, PRE_DIR, RES_DIR\n",
    "from utils.data_porter import read_from_csv, save_to_csv\n",
    "\n",
    "from IPython.core.interactiveshell import InteractiveShell\n",
    "InteractiveShell.ast_node_interactivity = \"all\" "
   ]
  },
  {
   "cell_type": "code",
   "execution_count": 2,
   "metadata": {
    "scrolled": false
   },
   "outputs": [
    {
     "data": {
      "text/html": [
       "<div>\n",
       "<style scoped>\n",
       "    .dataframe tbody tr th:only-of-type {\n",
       "        vertical-align: middle;\n",
       "    }\n",
       "\n",
       "    .dataframe tbody tr th {\n",
       "        vertical-align: top;\n",
       "    }\n",
       "\n",
       "    .dataframe thead th {\n",
       "        text-align: right;\n",
       "    }\n",
       "</style>\n",
       "<table border=\"1\" class=\"dataframe\">\n",
       "  <thead>\n",
       "    <tr style=\"text-align: right;\">\n",
       "      <th></th>\n",
       "      <th>overall</th>\n",
       "      <th>asin</th>\n",
       "      <th>reviewTime</th>\n",
       "      <th>reviewerID</th>\n",
       "      <th>reviewerName</th>\n",
       "      <th>reviewText</th>\n",
       "      <th>summary</th>\n",
       "      <th>num_review_ps</th>\n",
       "      <th>num_review_gm</th>\n",
       "    </tr>\n",
       "  </thead>\n",
       "  <tbody>\n",
       "    <tr>\n",
       "      <th>0</th>\n",
       "      <td>5.0</td>\n",
       "      <td>B0000296O5</td>\n",
       "      <td>1999-10-14</td>\n",
       "      <td>A2AXQTB83VMK4L</td>\n",
       "      <td>Amazon Customer</td>\n",
       "      <td>I'm having the most fun I've ever had on PlayS...</td>\n",
       "      <td>Best RPG Ever!</td>\n",
       "      <td>6</td>\n",
       "      <td>268</td>\n",
       "    </tr>\n",
       "    <tr>\n",
       "      <th>1</th>\n",
       "      <td>4.0</td>\n",
       "      <td>B00002NDRY</td>\n",
       "      <td>1999-11-05</td>\n",
       "      <td>A2T04VAIXSKJH2</td>\n",
       "      <td>Stefan</td>\n",
       "      <td>I'm usually not crazy about real-time strategy...</td>\n",
       "      <td>Good real time strategy game</td>\n",
       "      <td>6</td>\n",
       "      <td>67</td>\n",
       "    </tr>\n",
       "    <tr>\n",
       "      <th>2</th>\n",
       "      <td>5.0</td>\n",
       "      <td>B000021Y5F</td>\n",
       "      <td>1999-11-10</td>\n",
       "      <td>A1QA8K3LD9K892</td>\n",
       "      <td>Chris Adamson</td>\n",
       "      <td>Williams made games for hard-core arcade gamer...</td>\n",
       "      <td>A cool 80's artifact</td>\n",
       "      <td>23</td>\n",
       "      <td>7</td>\n",
       "    </tr>\n",
       "    <tr>\n",
       "      <th>3</th>\n",
       "      <td>4.0</td>\n",
       "      <td>B00000JL6V</td>\n",
       "      <td>1999-11-10</td>\n",
       "      <td>AMGJMFJ63DWWH</td>\n",
       "      <td>Ed Matuskey</td>\n",
       "      <td>Once again you put your hand to the book, and ...</td>\n",
       "      <td>Beautiful game, with excellent (and hard!) puz...</td>\n",
       "      <td>5</td>\n",
       "      <td>37</td>\n",
       "    </tr>\n",
       "    <tr>\n",
       "      <th>4</th>\n",
       "      <td>5.0</td>\n",
       "      <td>B00000K4AX</td>\n",
       "      <td>1999-11-10</td>\n",
       "      <td>A3VWWQT4XDSBGQ</td>\n",
       "      <td>Joshua W. Fenton</td>\n",
       "      <td>If you loved Half-Life, this is a must buy. I ...</td>\n",
       "      <td>AWESOME!</td>\n",
       "      <td>5</td>\n",
       "      <td>26</td>\n",
       "    </tr>\n",
       "  </tbody>\n",
       "</table>\n",
       "</div>"
      ],
      "text/plain": [
       "   overall        asin reviewTime      reviewerID      reviewerName  \\\n",
       "0      5.0  B0000296O5 1999-10-14  A2AXQTB83VMK4L   Amazon Customer   \n",
       "1      4.0  B00002NDRY 1999-11-05  A2T04VAIXSKJH2            Stefan   \n",
       "2      5.0  B000021Y5F 1999-11-10  A1QA8K3LD9K892     Chris Adamson   \n",
       "3      4.0  B00000JL6V 1999-11-10   AMGJMFJ63DWWH       Ed Matuskey   \n",
       "4      5.0  B00000K4AX 1999-11-10  A3VWWQT4XDSBGQ  Joshua W. Fenton   \n",
       "\n",
       "                                          reviewText  \\\n",
       "0  I'm having the most fun I've ever had on PlayS...   \n",
       "1  I'm usually not crazy about real-time strategy...   \n",
       "2  Williams made games for hard-core arcade gamer...   \n",
       "3  Once again you put your hand to the book, and ...   \n",
       "4  If you loved Half-Life, this is a must buy. I ...   \n",
       "\n",
       "                                             summary  num_review_ps  \\\n",
       "0                                     Best RPG Ever!              6   \n",
       "1                       Good real time strategy game              6   \n",
       "2                               A cool 80's artifact             23   \n",
       "3  Beautiful game, with excellent (and hard!) puz...              5   \n",
       "4                                           AWESOME!              5   \n",
       "\n",
       "   num_review_gm  \n",
       "0            268  \n",
       "1             67  \n",
       "2              7  \n",
       "3             37  \n",
       "4             26  "
      ]
     },
     "execution_count": 2,
     "metadata": {},
     "output_type": "execute_result"
    },
    {
     "data": {
      "text/html": [
       "<div>\n",
       "<style scoped>\n",
       "    .dataframe tbody tr th:only-of-type {\n",
       "        vertical-align: middle;\n",
       "    }\n",
       "\n",
       "    .dataframe tbody tr th {\n",
       "        vertical-align: top;\n",
       "    }\n",
       "\n",
       "    .dataframe thead th {\n",
       "        text-align: right;\n",
       "    }\n",
       "</style>\n",
       "<table border=\"1\" class=\"dataframe\">\n",
       "  <thead>\n",
       "    <tr style=\"text-align: right;\">\n",
       "      <th></th>\n",
       "      <th>overall</th>\n",
       "      <th>asin</th>\n",
       "      <th>reviewTime</th>\n",
       "      <th>reviewerID</th>\n",
       "      <th>reviewerName</th>\n",
       "      <th>reviewText</th>\n",
       "      <th>summary</th>\n",
       "      <th>num_review_ps</th>\n",
       "      <th>num_review_gm</th>\n",
       "    </tr>\n",
       "  </thead>\n",
       "  <tbody>\n",
       "    <tr>\n",
       "      <th>424371</th>\n",
       "      <td>3.0</td>\n",
       "      <td>B00L59D9HG</td>\n",
       "      <td>2017-01-16</td>\n",
       "      <td>A1JO2IPCY1J4PS</td>\n",
       "      <td>Honest Frizz</td>\n",
       "      <td>No problem at all with the charger itself.  It...</td>\n",
       "      <td>You have to buy it Separately</td>\n",
       "      <td>5</td>\n",
       "      <td>390</td>\n",
       "    </tr>\n",
       "    <tr>\n",
       "      <th>424372</th>\n",
       "      <td>5.0</td>\n",
       "      <td>B00005ATSN</td>\n",
       "      <td>2017-01-16</td>\n",
       "      <td>ANVJU2ROVJC8A</td>\n",
       "      <td>Jemi Linked</td>\n",
       "      <td>Great game!</td>\n",
       "      <td>LOZ forever!</td>\n",
       "      <td>9</td>\n",
       "      <td>38</td>\n",
       "    </tr>\n",
       "    <tr>\n",
       "      <th>424373</th>\n",
       "      <td>5.0</td>\n",
       "      <td>B015OYM10I</td>\n",
       "      <td>2017-01-16</td>\n",
       "      <td>A19K4H7U79QKE0</td>\n",
       "      <td>Rafael Quintero</td>\n",
       "      <td>Awesome!</td>\n",
       "      <td>Five Stars</td>\n",
       "      <td>11</td>\n",
       "      <td>45</td>\n",
       "    </tr>\n",
       "    <tr>\n",
       "      <th>424374</th>\n",
       "      <td>5.0</td>\n",
       "      <td>B00Y4S5KPY</td>\n",
       "      <td>2017-01-16</td>\n",
       "      <td>A11JVJHDF59HJC</td>\n",
       "      <td>Hammerton</td>\n",
       "      <td>Son loves it and works with other razer color ...</td>\n",
       "      <td>Five Stars</td>\n",
       "      <td>7</td>\n",
       "      <td>119</td>\n",
       "    </tr>\n",
       "    <tr>\n",
       "      <th>424375</th>\n",
       "      <td>1.0</td>\n",
       "      <td>B00O4FOB3O</td>\n",
       "      <td>2017-01-16</td>\n",
       "      <td>A1JXGU255ZN7JJ</td>\n",
       "      <td>MasterBlaster</td>\n",
       "      <td>I'm updating my review after having used these...</td>\n",
       "      <td>great to start but...</td>\n",
       "      <td>8</td>\n",
       "      <td>31</td>\n",
       "    </tr>\n",
       "  </tbody>\n",
       "</table>\n",
       "</div>"
      ],
      "text/plain": [
       "        overall        asin reviewTime      reviewerID     reviewerName  \\\n",
       "424371      3.0  B00L59D9HG 2017-01-16  A1JO2IPCY1J4PS     Honest Frizz   \n",
       "424372      5.0  B00005ATSN 2017-01-16   ANVJU2ROVJC8A      Jemi Linked   \n",
       "424373      5.0  B015OYM10I 2017-01-16  A19K4H7U79QKE0  Rafael Quintero   \n",
       "424374      5.0  B00Y4S5KPY 2017-01-16  A11JVJHDF59HJC        Hammerton   \n",
       "424375      1.0  B00O4FOB3O 2017-01-16  A1JXGU255ZN7JJ    MasterBlaster   \n",
       "\n",
       "                                               reviewText  \\\n",
       "424371  No problem at all with the charger itself.  It...   \n",
       "424372                                        Great game!   \n",
       "424373                                           Awesome!   \n",
       "424374  Son loves it and works with other razer color ...   \n",
       "424375  I'm updating my review after having used these...   \n",
       "\n",
       "                              summary  num_review_ps  num_review_gm  \n",
       "424371  You have to buy it Separately              5            390  \n",
       "424372                   LOZ forever!              9             38  \n",
       "424373                     Five Stars             11             45  \n",
       "424374                     Five Stars              7            119  \n",
       "424375          great to start but...              8             31  "
      ]
     },
     "execution_count": 2,
     "metadata": {},
     "output_type": "execute_result"
    }
   ],
   "source": [
    "# 加载数据\n",
    "\n",
    "with open(os.path.join(PRE_DIR, 'train_data.pkl'), 'rb') as f:\n",
    "    train_data = pickle.load(f)\n",
    "train_data.head()\n",
    "\n",
    "with open(os.path.join(PRE_DIR, 'test_data.pkl'), 'rb') as f:\n",
    "    test_data = pickle.load(f)\n",
    "test_data.head()"
   ]
  },
  {
   "cell_type": "code",
   "execution_count": 3,
   "metadata": {},
   "outputs": [
    {
     "data": {
      "text/plain": [
       "(424371, 9)"
      ]
     },
     "execution_count": 3,
     "metadata": {},
     "output_type": "execute_result"
    },
    {
     "data": {
      "text/plain": [
       "(42438, 9)"
      ]
     },
     "execution_count": 3,
     "metadata": {},
     "output_type": "execute_result"
    },
    {
     "data": {
      "text/plain": [
       "(381933, 9)"
      ]
     },
     "execution_count": 3,
     "metadata": {},
     "output_type": "execute_result"
    }
   ],
   "source": [
    "train_data.shape\n",
    "val_data = train_data.iloc[int(train_data.shape[0]*0.9):]\n",
    "val_data.shape\n",
    "train_data = train_data.iloc[:int(train_data.shape[0]*0.9)]\n",
    "train_data.shape"
   ]
  },
  {
   "cell_type": "code",
   "execution_count": 4,
   "metadata": {},
   "outputs": [],
   "source": [
    "# 只选取这些行\n",
    "train_rate = train_data[['asin', 'reviewerID', 'overall']]\n",
    "val_rate = val_data[['asin', 'reviewerID', 'overall']]\n",
    "test_rate = test_data[['asin', 'reviewerID', 'overall']]"
   ]
  },
  {
   "cell_type": "markdown",
   "metadata": {},
   "source": [
    "# Try different model"
   ]
  },
  {
   "cell_type": "code",
   "execution_count": 5,
   "metadata": {},
   "outputs": [],
   "source": [
    "from surprise import SVD\n",
    "from surprise import accuracy\n",
    "from surprise import Reader\n",
    "from surprise.model_selection import GridSearchCV\n",
    "from surprise import Dataset\n",
    "from surprise import BaselineOnly\n",
    "from surprise import KNNBaseline\n",
    "\n",
    "from sklearn.metrics import r2_score\n",
    "from sklearn.metrics import mean_absolute_error as mae"
   ]
  },
  {
   "cell_type": "code",
   "execution_count": 6,
   "metadata": {},
   "outputs": [],
   "source": [
    "# 加载 train validation 数据集\n",
    "reader = Reader(rating_scale = (0.0, 5.0))\n",
    "train_set = Dataset.load_from_df(train_rate, reader).build_full_trainset()\n",
    "val_set = Dataset.load_from_df(val_rate, reader).build_full_trainset().build_testset()\n",
    "test_set = Dataset.load_from_df(test_rate, reader).build_full_trainset().build_testset()"
   ]
  },
  {
   "cell_type": "code",
   "execution_count": 7,
   "metadata": {},
   "outputs": [],
   "source": [
    "# 输出模型评价 mae，mse\n",
    "def print_metrics_sp(predictions):\n",
    "    mae_score = accuracy.mae(predictions)\n",
    "    mse_score = accuracy.mse(predictions)\n",
    "    return mae_score, mse_score"
   ]
  },
  {
   "cell_type": "markdown",
   "metadata": {},
   "source": [
    "https://blog.csdn.net/Dawei_01/article/details/79844271\n",
    "这个链接里面有以下三种方法的讲解，可参考"
   ]
  },
  {
   "cell_type": "markdown",
   "metadata": {},
   "source": [
    "## BaselineOnly"
   ]
  },
  {
   "cell_type": "markdown",
   "metadata": {},
   "source": [
    "https://blog.csdn.net/sinat_26811377/article/details/97647113\n",
    "这个链接讲了此方法的基本原理，可参考\n",
    "\n",
    "\n",
    "https://surprise.readthedocs.io/en/stable/basic_algorithms.html?highlight=BaselineOnly#surprise.prediction_algorithms.baseline_only.BaselineOnly\n",
    "官方文档"
   ]
  },
  {
   "cell_type": "code",
   "execution_count": 8,
   "metadata": {},
   "outputs": [],
   "source": [
    "new_train_rate = pd.concat([train_rate, val_rate])\n",
    "new_train_set = Dataset.load_from_df(new_train_rate, reader).build_full_trainset()"
   ]
  },
  {
   "cell_type": "code",
   "execution_count": 9,
   "metadata": {},
   "outputs": [
    {
     "data": {
      "text/html": [
       "<div>\n",
       "<style scoped>\n",
       "    .dataframe tbody tr th:only-of-type {\n",
       "        vertical-align: middle;\n",
       "    }\n",
       "\n",
       "    .dataframe tbody tr th {\n",
       "        vertical-align: top;\n",
       "    }\n",
       "\n",
       "    .dataframe thead th {\n",
       "        text-align: right;\n",
       "    }\n",
       "</style>\n",
       "<table border=\"1\" class=\"dataframe\">\n",
       "  <thead>\n",
       "    <tr style=\"text-align: right;\">\n",
       "      <th></th>\n",
       "      <th>asin</th>\n",
       "      <th>reviewerID</th>\n",
       "      <th>overall</th>\n",
       "    </tr>\n",
       "  </thead>\n",
       "  <tbody>\n",
       "    <tr>\n",
       "      <th>0</th>\n",
       "      <td>B0000296O5</td>\n",
       "      <td>A2AXQTB83VMK4L</td>\n",
       "      <td>5.0</td>\n",
       "    </tr>\n",
       "    <tr>\n",
       "      <th>1</th>\n",
       "      <td>B00002NDRY</td>\n",
       "      <td>A2T04VAIXSKJH2</td>\n",
       "      <td>4.0</td>\n",
       "    </tr>\n",
       "    <tr>\n",
       "      <th>2</th>\n",
       "      <td>B000021Y5F</td>\n",
       "      <td>A1QA8K3LD9K892</td>\n",
       "      <td>5.0</td>\n",
       "    </tr>\n",
       "    <tr>\n",
       "      <th>3</th>\n",
       "      <td>B00000JL6V</td>\n",
       "      <td>AMGJMFJ63DWWH</td>\n",
       "      <td>4.0</td>\n",
       "    </tr>\n",
       "    <tr>\n",
       "      <th>4</th>\n",
       "      <td>B00000K4AX</td>\n",
       "      <td>A3VWWQT4XDSBGQ</td>\n",
       "      <td>5.0</td>\n",
       "    </tr>\n",
       "  </tbody>\n",
       "</table>\n",
       "</div>"
      ],
      "text/plain": [
       "         asin      reviewerID  overall\n",
       "0  B0000296O5  A2AXQTB83VMK4L      5.0\n",
       "1  B00002NDRY  A2T04VAIXSKJH2      4.0\n",
       "2  B000021Y5F  A1QA8K3LD9K892      5.0\n",
       "3  B00000JL6V   AMGJMFJ63DWWH      4.0\n",
       "4  B00000K4AX  A3VWWQT4XDSBGQ      5.0"
      ]
     },
     "execution_count": 9,
     "metadata": {},
     "output_type": "execute_result"
    }
   ],
   "source": [
    "new_train_rate.head()"
   ]
  },
  {
   "cell_type": "markdown",
   "metadata": {},
   "source": [
    "https://blog.csdn.net/weixin_42690752/article/details/103715543\n",
    "\n",
    "这个链接写了sgd和als两种求解矩阵分解的方法\n",
    "这里我们使用了 als 来进行求解"
   ]
  },
  {
   "cell_type": "code",
   "execution_count": 10,
   "metadata": {
    "scrolled": true
   },
   "outputs": [
    {
     "name": "stdout",
     "output_type": "stream",
     "text": [
      "Estimating biases using als...\n"
     ]
    },
    {
     "data": {
      "text/plain": [
       "<surprise.prediction_algorithms.baseline_only.BaselineOnly at 0x7fd18af0ca10>"
      ]
     },
     "execution_count": 10,
     "metadata": {},
     "output_type": "execute_result"
    },
    {
     "name": "stdout",
     "output_type": "stream",
     "text": [
      "MAE:  0.8497\n",
      "MSE: 1.2221\n"
     ]
    }
   ],
   "source": [
    "# 这一步只是确保模型能够顺利运行\n",
    "\n",
    "bsl_options = {\n",
    "    'method': 'als',\n",
    "    'n_factors':200, \n",
    "    'n_epochs':30,\n",
    "    'lr_all':0.005,\n",
    "    'reg_all':0.1\n",
    "}\n",
    "bias_baseline = BaselineOnly(bsl_options)\n",
    "bias_baseline.fit(new_train_set)\n",
    "predictions = bias_baseline.test(test_set)\n",
    "\n",
    "_, _ = print_metrics_sp(predictions)"
   ]
  },
  {
   "cell_type": "code",
   "execution_count": 25,
   "metadata": {
    "scrolled": true
   },
   "outputs": [
    {
     "name": "stdout",
     "output_type": "stream",
     "text": [
      "Fitting factor: 10, reg:0.1\n",
      "Estimating biases using als...\n"
     ]
    },
    {
     "data": {
      "text/plain": [
       "<surprise.prediction_algorithms.baseline_only.BaselineOnly at 0x7fd18b0a56d0>"
      ]
     },
     "execution_count": 25,
     "metadata": {},
     "output_type": "execute_result"
    },
    {
     "name": "stdout",
     "output_type": "stream",
     "text": [
      "MAE:  0.8451\n",
      "MSE: 1.1939\n",
      "Fitting factor: 10, reg:0.3\n",
      "Estimating biases using als...\n"
     ]
    },
    {
     "data": {
      "text/plain": [
       "<surprise.prediction_algorithms.baseline_only.BaselineOnly at 0x7fd16509d590>"
      ]
     },
     "execution_count": 25,
     "metadata": {},
     "output_type": "execute_result"
    },
    {
     "name": "stdout",
     "output_type": "stream",
     "text": [
      "MAE:  0.8451\n",
      "MSE: 1.1939\n",
      "Fitting factor: 10, reg:0.5\n",
      "Estimating biases using als...\n"
     ]
    },
    {
     "data": {
      "text/plain": [
       "<surprise.prediction_algorithms.baseline_only.BaselineOnly at 0x7fd18d5ce1d0>"
      ]
     },
     "execution_count": 25,
     "metadata": {},
     "output_type": "execute_result"
    },
    {
     "name": "stdout",
     "output_type": "stream",
     "text": [
      "MAE:  0.8451\n",
      "MSE: 1.1939\n",
      "Fitting factor: 20, reg:0.1\n",
      "Estimating biases using als...\n"
     ]
    },
    {
     "data": {
      "text/plain": [
       "<surprise.prediction_algorithms.baseline_only.BaselineOnly at 0x7fd18d27b890>"
      ]
     },
     "execution_count": 25,
     "metadata": {},
     "output_type": "execute_result"
    },
    {
     "name": "stdout",
     "output_type": "stream",
     "text": [
      "MAE:  0.8451\n",
      "MSE: 1.1939\n",
      "Fitting factor: 20, reg:0.3\n",
      "Estimating biases using als...\n"
     ]
    },
    {
     "data": {
      "text/plain": [
       "<surprise.prediction_algorithms.baseline_only.BaselineOnly at 0x7fd18d543c90>"
      ]
     },
     "execution_count": 25,
     "metadata": {},
     "output_type": "execute_result"
    },
    {
     "name": "stdout",
     "output_type": "stream",
     "text": [
      "MAE:  0.8451\n",
      "MSE: 1.1939\n",
      "Fitting factor: 20, reg:0.5\n",
      "Estimating biases using als...\n"
     ]
    },
    {
     "data": {
      "text/plain": [
       "<surprise.prediction_algorithms.baseline_only.BaselineOnly at 0x7fd18b70b190>"
      ]
     },
     "execution_count": 25,
     "metadata": {},
     "output_type": "execute_result"
    },
    {
     "name": "stdout",
     "output_type": "stream",
     "text": [
      "MAE:  0.8451\n",
      "MSE: 1.1939\n",
      "Fitting factor: 50, reg:0.1\n",
      "Estimating biases using als...\n"
     ]
    },
    {
     "data": {
      "text/plain": [
       "<surprise.prediction_algorithms.baseline_only.BaselineOnly at 0x7fd18d27b250>"
      ]
     },
     "execution_count": 25,
     "metadata": {},
     "output_type": "execute_result"
    },
    {
     "name": "stdout",
     "output_type": "stream",
     "text": [
      "MAE:  0.8451\n",
      "MSE: 1.1939\n",
      "Fitting factor: 50, reg:0.3\n",
      "Estimating biases using als...\n"
     ]
    },
    {
     "data": {
      "text/plain": [
       "<surprise.prediction_algorithms.baseline_only.BaselineOnly at 0x7fd18e000dd0>"
      ]
     },
     "execution_count": 25,
     "metadata": {},
     "output_type": "execute_result"
    },
    {
     "name": "stdout",
     "output_type": "stream",
     "text": [
      "MAE:  0.8451\n",
      "MSE: 1.1939\n",
      "Fitting factor: 50, reg:0.5\n",
      "Estimating biases using als...\n"
     ]
    },
    {
     "data": {
      "text/plain": [
       "<surprise.prediction_algorithms.baseline_only.BaselineOnly at 0x7fd18e000b50>"
      ]
     },
     "execution_count": 25,
     "metadata": {},
     "output_type": "execute_result"
    },
    {
     "name": "stdout",
     "output_type": "stream",
     "text": [
      "MAE:  0.8451\n",
      "MSE: 1.1939\n"
     ]
    }
   ],
   "source": [
    "# 设置超参数列表进行网格搜索法调参\n",
    "# 用验证集上的表现来选取最优参数\n",
    "\n",
    "n_factors_lst = [10, 20, 50]\n",
    "reg_all_lst =  [0.1, 0.3,0.5] # the regularization term for all parameters\n",
    "\n",
    "res_df = {'para': [], 'mae': [], 'mse': []}\n",
    "for factor in n_factors_lst:\n",
    "    for reg in reg_all_lst:\n",
    "        print(f'Fitting factor: {factor}, reg:{reg}')\n",
    "        res_df['para'].append(f\"{factor},{reg}\")\n",
    "        bsl_options = {\n",
    "            'method': 'als',\n",
    "            'n_factors': factor, \n",
    "            'n_epochs': 30,\n",
    "            'lr_all': 0.005,\n",
    "            'reg_all': reg}\n",
    "        bias_baseline = BaselineOnly(bsl_options)\n",
    "        bias_baseline.fit(train_set)\n",
    "        predictions = bias_baseline.test(val_set)\n",
    "        res_df['mae'].append(accuracy.mae(predictions))\n",
    "        res_df['mse'].append(accuracy.mse(predictions))"
   ]
  },
  {
   "cell_type": "code",
   "execution_count": 26,
   "metadata": {
    "scrolled": true
   },
   "outputs": [
    {
     "data": {
      "text/html": [
       "<div>\n",
       "<style scoped>\n",
       "    .dataframe tbody tr th:only-of-type {\n",
       "        vertical-align: middle;\n",
       "    }\n",
       "\n",
       "    .dataframe tbody tr th {\n",
       "        vertical-align: top;\n",
       "    }\n",
       "\n",
       "    .dataframe thead th {\n",
       "        text-align: right;\n",
       "    }\n",
       "</style>\n",
       "<table border=\"1\" class=\"dataframe\">\n",
       "  <thead>\n",
       "    <tr style=\"text-align: right;\">\n",
       "      <th></th>\n",
       "      <th>para</th>\n",
       "      <th>mae</th>\n",
       "      <th>mse</th>\n",
       "    </tr>\n",
       "  </thead>\n",
       "  <tbody>\n",
       "    <tr>\n",
       "      <th>0</th>\n",
       "      <td>10,0.1</td>\n",
       "      <td>0.84506</td>\n",
       "      <td>1.193916</td>\n",
       "    </tr>\n",
       "    <tr>\n",
       "      <th>1</th>\n",
       "      <td>10,0.3</td>\n",
       "      <td>0.84506</td>\n",
       "      <td>1.193916</td>\n",
       "    </tr>\n",
       "    <tr>\n",
       "      <th>2</th>\n",
       "      <td>10,0.5</td>\n",
       "      <td>0.84506</td>\n",
       "      <td>1.193916</td>\n",
       "    </tr>\n",
       "    <tr>\n",
       "      <th>3</th>\n",
       "      <td>20,0.1</td>\n",
       "      <td>0.84506</td>\n",
       "      <td>1.193916</td>\n",
       "    </tr>\n",
       "    <tr>\n",
       "      <th>4</th>\n",
       "      <td>20,0.3</td>\n",
       "      <td>0.84506</td>\n",
       "      <td>1.193916</td>\n",
       "    </tr>\n",
       "    <tr>\n",
       "      <th>5</th>\n",
       "      <td>20,0.5</td>\n",
       "      <td>0.84506</td>\n",
       "      <td>1.193916</td>\n",
       "    </tr>\n",
       "    <tr>\n",
       "      <th>6</th>\n",
       "      <td>50,0.1</td>\n",
       "      <td>0.84506</td>\n",
       "      <td>1.193916</td>\n",
       "    </tr>\n",
       "    <tr>\n",
       "      <th>7</th>\n",
       "      <td>50,0.3</td>\n",
       "      <td>0.84506</td>\n",
       "      <td>1.193916</td>\n",
       "    </tr>\n",
       "    <tr>\n",
       "      <th>8</th>\n",
       "      <td>50,0.5</td>\n",
       "      <td>0.84506</td>\n",
       "      <td>1.193916</td>\n",
       "    </tr>\n",
       "  </tbody>\n",
       "</table>\n",
       "</div>"
      ],
      "text/plain": [
       "     para      mae       mse\n",
       "0  10,0.1  0.84506  1.193916\n",
       "1  10,0.3  0.84506  1.193916\n",
       "2  10,0.5  0.84506  1.193916\n",
       "3  20,0.1  0.84506  1.193916\n",
       "4  20,0.3  0.84506  1.193916\n",
       "5  20,0.5  0.84506  1.193916\n",
       "6  50,0.1  0.84506  1.193916\n",
       "7  50,0.3  0.84506  1.193916\n",
       "8  50,0.5  0.84506  1.193916"
      ]
     },
     "execution_count": 26,
     "metadata": {},
     "output_type": "execute_result"
    }
   ],
   "source": [
    "# 所有参数的结果\n",
    "res_df = pd.DataFrame(res_df)\n",
    "res_df"
   ]
  },
  {
   "cell_type": "code",
   "execution_count": 27,
   "metadata": {},
   "outputs": [
    {
     "data": {
      "text/plain": [
       "[<matplotlib.lines.Line2D at 0x7fd1659673d0>]"
      ]
     },
     "execution_count": 27,
     "metadata": {},
     "output_type": "execute_result"
    },
    {
     "data": {
      "text/plain": [
       "[<matplotlib.lines.Line2D at 0x7fd165dc37d0>]"
      ]
     },
     "execution_count": 27,
     "metadata": {},
     "output_type": "execute_result"
    },
    {
     "data": {
      "text/plain": [
       "<matplotlib.legend.Legend at 0x7fd165dc3390>"
      ]
     },
     "execution_count": 27,
     "metadata": {},
     "output_type": "execute_result"
    },
    {
     "data": {
      "image/png": "[encoded data removed]",
      "text/plain": [
       "<Figure size 432x288 with 1 Axes>"
      ]
     },
     "metadata": {
      "needs_background": "light"
     },
     "output_type": "display_data"
    }
   ],
   "source": [
    "plt.plot(res_df['para'], res_df['mae'], label='mae')\n",
    "plt.plot(res_df['para'], res_df['mse'], label='mse')\n",
    "plt.legend()"
   ]
  },
  {
   "cell_type": "markdown",
   "metadata": {},
   "source": [
    "参数选择几乎不影响 baseline 模型的表现"
   ]
  },
  {
   "cell_type": "code",
   "execution_count": 64,
   "metadata": {
    "scrolled": true
   },
   "outputs": [
    {
     "name": "stdout",
     "output_type": "stream",
     "text": [
      "Estimating biases using als...\n"
     ]
    },
    {
     "data": {
      "text/plain": [
       "<surprise.prediction_algorithms.baseline_only.BaselineOnly at 0x7fd18deda690>"
      ]
     },
     "execution_count": 64,
     "metadata": {},
     "output_type": "execute_result"
    },
    {
     "name": "stdout",
     "output_type": "stream",
     "text": [
      "MAE:  0.8497\n",
      "MSE: 1.2221\n"
     ]
    }
   ],
   "source": [
    "# 测试集（90% 数据参与训练）\n",
    "\n",
    "bsl_options = {\n",
    "    'method': 'als',\n",
    "    'n_factors':200, \n",
    "    'n_epochs':30,\n",
    "    'lr_all':0.005,\n",
    "    'reg_all':0.1\n",
    "}\n",
    "bias_baseline = BaselineOnly(bsl_options)\n",
    "bias_baseline.fit(new_train_set)\n",
    "predictions = bias_baseline.test(test_set)\n",
    "\n",
    "_, _ = print_metrics_sp(predictions)"
   ]
  },
  {
   "cell_type": "code",
   "execution_count": 71,
   "metadata": {},
   "outputs": [
    {
     "name": "stdout",
     "output_type": "stream",
     "text": [
      "Estimating biases using als...\n"
     ]
    },
    {
     "data": {
      "text/plain": [
       "<surprise.prediction_algorithms.baseline_only.BaselineOnly at 0x7fd18fd0ae90>"
      ]
     },
     "execution_count": 71,
     "metadata": {},
     "output_type": "execute_result"
    },
    {
     "name": "stdout",
     "output_type": "stream",
     "text": [
      "MAE:  0.8748\n",
      "MSE: 1.2609\n"
     ]
    }
   ],
   "source": [
    "# 测试集（80%数据参与训练）\n",
    "\n",
    "bsl_options = {\n",
    "    'method': 'als',\n",
    "    'n_factors':200, \n",
    "    'n_epochs':30,\n",
    "    'lr_all':0.005,\n",
    "    'reg_all':0.1\n",
    "}\n",
    "bias_baseline = BaselineOnly(bsl_options)\n",
    "bias_baseline.fit(train_set)\n",
    "predictions = bias_baseline.test(test_set)\n",
    "\n",
    "_, _ = print_metrics_sp(predictions)"
   ]
  },
  {
   "cell_type": "markdown",
   "metadata": {},
   "source": [
    "可以看出，数据越多，模型表现更好"
   ]
  },
  {
   "cell_type": "markdown",
   "metadata": {},
   "source": [
    "## Biased SGD model"
   ]
  },
  {
   "cell_type": "markdown",
   "metadata": {},
   "source": [
    "https://blog.csdn.net/weixin_42690752/article/details/103715543\n",
    "\n",
    "这个链接写了sgd和als两种求解矩阵分解的方法\n",
    "这里我们使用了 als 来进行求解"
   ]
  },
  {
   "cell_type": "code",
   "execution_count": 29,
   "metadata": {
    "scrolled": true
   },
   "outputs": [
    {
     "data": {
      "text/plain": [
       "<surprise.prediction_algorithms.matrix_factorization.SVD at 0x7fd16554b150>"
      ]
     },
     "execution_count": 29,
     "metadata": {},
     "output_type": "execute_result"
    },
    {
     "name": "stdout",
     "output_type": "stream",
     "text": [
      "MAE:  0.8419\n",
      "MSE: 1.2388\n"
     ]
    },
    {
     "data": {
      "text/plain": [
       "(0.8419392576060248, 1.2387782765269668)"
      ]
     },
     "execution_count": 29,
     "metadata": {},
     "output_type": "execute_result"
    }
   ],
   "source": [
    "bias_sgd = SVD(n_factors=200, n_epochs=30, lr_all=0.005, reg_all=0.02)\n",
    "bias_sgd.fit(new_train_set)\n",
    "predictions = bias_sgd.test(test_set)\n",
    "print_metrics_sp(predictions)"
   ]
  },
  {
   "cell_type": "code",
   "execution_count": 30,
   "metadata": {
    "scrolled": true
   },
   "outputs": [
    {
     "name": "stdout",
     "output_type": "stream",
     "text": [
      "Fitting factor: 10, reg:0.01\n"
     ]
    },
    {
     "data": {
      "text/plain": [
       "<surprise.prediction_algorithms.matrix_factorization.SVD at 0x7fd13cd88490>"
      ]
     },
     "execution_count": 30,
     "metadata": {},
     "output_type": "execute_result"
    },
    {
     "name": "stdout",
     "output_type": "stream",
     "text": [
      "MAE:  0.8216\n",
      "MSE: 1.1862\n",
      "Fitting factor: 10, reg:0.02\n"
     ]
    },
    {
     "data": {
      "text/plain": [
       "<surprise.prediction_algorithms.matrix_factorization.SVD at 0x7fd13cd80d90>"
      ]
     },
     "execution_count": 30,
     "metadata": {},
     "output_type": "execute_result"
    },
    {
     "name": "stdout",
     "output_type": "stream",
     "text": [
      "MAE:  0.8226\n",
      "MSE: 1.1862\n",
      "Fitting factor: 10, reg:0.03\n"
     ]
    },
    {
     "data": {
      "text/plain": [
       "<surprise.prediction_algorithms.matrix_factorization.SVD at 0x7fd165967a90>"
      ]
     },
     "execution_count": 30,
     "metadata": {},
     "output_type": "execute_result"
    },
    {
     "name": "stdout",
     "output_type": "stream",
     "text": [
      "MAE:  0.8227\n",
      "MSE: 1.1843\n",
      "Fitting factor: 10, reg:0.05\n"
     ]
    },
    {
     "data": {
      "text/plain": [
       "<surprise.prediction_algorithms.matrix_factorization.SVD at 0x7fd165967bd0>"
      ]
     },
     "execution_count": 30,
     "metadata": {},
     "output_type": "execute_result"
    },
    {
     "name": "stdout",
     "output_type": "stream",
     "text": [
      "MAE:  0.8232\n",
      "MSE: 1.1822\n",
      "Fitting factor: 50, reg:0.01\n"
     ]
    },
    {
     "data": {
      "text/plain": [
       "<surprise.prediction_algorithms.matrix_factorization.SVD at 0x7fd165967050>"
      ]
     },
     "execution_count": 30,
     "metadata": {},
     "output_type": "execute_result"
    },
    {
     "name": "stdout",
     "output_type": "stream",
     "text": [
      "MAE:  0.8265\n",
      "MSE: 1.1952\n",
      "Fitting factor: 50, reg:0.02\n"
     ]
    },
    {
     "data": {
      "text/plain": [
       "<surprise.prediction_algorithms.matrix_factorization.SVD at 0x7fd165967950>"
      ]
     },
     "execution_count": 30,
     "metadata": {},
     "output_type": "execute_result"
    },
    {
     "name": "stdout",
     "output_type": "stream",
     "text": [
      "MAE:  0.8261\n",
      "MSE: 1.1928\n",
      "Fitting factor: 50, reg:0.03\n"
     ]
    },
    {
     "data": {
      "text/plain": [
       "<surprise.prediction_algorithms.matrix_factorization.SVD at 0x7fd165a2cf10>"
      ]
     },
     "execution_count": 30,
     "metadata": {},
     "output_type": "execute_result"
    },
    {
     "name": "stdout",
     "output_type": "stream",
     "text": [
      "MAE:  0.8260\n",
      "MSE: 1.1886\n",
      "Fitting factor: 50, reg:0.05\n"
     ]
    },
    {
     "data": {
      "text/plain": [
       "<surprise.prediction_algorithms.matrix_factorization.SVD at 0x7fd165967750>"
      ]
     },
     "execution_count": 30,
     "metadata": {},
     "output_type": "execute_result"
    },
    {
     "name": "stdout",
     "output_type": "stream",
     "text": [
      "MAE:  0.8265\n",
      "MSE: 1.1866\n",
      "Fitting factor: 100, reg:0.01\n"
     ]
    },
    {
     "data": {
      "text/plain": [
       "<surprise.prediction_algorithms.matrix_factorization.SVD at 0x7fd165967d90>"
      ]
     },
     "execution_count": 30,
     "metadata": {},
     "output_type": "execute_result"
    },
    {
     "name": "stdout",
     "output_type": "stream",
     "text": [
      "MAE:  0.8308\n",
      "MSE: 1.2003\n",
      "Fitting factor: 100, reg:0.02\n"
     ]
    },
    {
     "data": {
      "text/plain": [
       "<surprise.prediction_algorithms.matrix_factorization.SVD at 0x7fd165967450>"
      ]
     },
     "execution_count": 30,
     "metadata": {},
     "output_type": "execute_result"
    },
    {
     "name": "stdout",
     "output_type": "stream",
     "text": [
      "MAE:  0.8307\n",
      "MSE: 1.2008\n",
      "Fitting factor: 100, reg:0.03\n"
     ]
    },
    {
     "data": {
      "text/plain": [
       "<surprise.prediction_algorithms.matrix_factorization.SVD at 0x7fd1b82c2c90>"
      ]
     },
     "execution_count": 30,
     "metadata": {},
     "output_type": "execute_result"
    },
    {
     "name": "stdout",
     "output_type": "stream",
     "text": [
      "MAE:  0.8292\n",
      "MSE: 1.1963\n",
      "Fitting factor: 100, reg:0.05\n"
     ]
    },
    {
     "data": {
      "text/plain": [
       "<surprise.prediction_algorithms.matrix_factorization.SVD at 0x7fd165a2c6d0>"
      ]
     },
     "execution_count": 30,
     "metadata": {},
     "output_type": "execute_result"
    },
    {
     "name": "stdout",
     "output_type": "stream",
     "text": [
      "MAE:  0.8290\n",
      "MSE: 1.1900\n",
      "Fitting factor: 200, reg:0.01\n"
     ]
    },
    {
     "data": {
      "text/plain": [
       "<surprise.prediction_algorithms.matrix_factorization.SVD at 0x7fd165967810>"
      ]
     },
     "execution_count": 30,
     "metadata": {},
     "output_type": "execute_result"
    },
    {
     "name": "stdout",
     "output_type": "stream",
     "text": [
      "MAE:  0.8376\n",
      "MSE: 1.2128\n",
      "Fitting factor: 200, reg:0.02\n"
     ]
    },
    {
     "data": {
      "text/plain": [
       "<surprise.prediction_algorithms.matrix_factorization.SVD at 0x7fd165967d90>"
      ]
     },
     "execution_count": 30,
     "metadata": {},
     "output_type": "execute_result"
    },
    {
     "name": "stdout",
     "output_type": "stream",
     "text": [
      "MAE:  0.8370\n",
      "MSE: 1.2086\n",
      "Fitting factor: 200, reg:0.03\n"
     ]
    },
    {
     "data": {
      "text/plain": [
       "<surprise.prediction_algorithms.matrix_factorization.SVD at 0x7fd165a2cbd0>"
      ]
     },
     "execution_count": 30,
     "metadata": {},
     "output_type": "execute_result"
    },
    {
     "name": "stdout",
     "output_type": "stream",
     "text": [
      "MAE:  0.8387\n",
      "MSE: 1.2081\n",
      "Fitting factor: 200, reg:0.05\n"
     ]
    },
    {
     "data": {
      "text/plain": [
       "<surprise.prediction_algorithms.matrix_factorization.SVD at 0x7fd165a2ce90>"
      ]
     },
     "execution_count": 30,
     "metadata": {},
     "output_type": "execute_result"
    },
    {
     "name": "stdout",
     "output_type": "stream",
     "text": [
      "MAE:  0.8352\n",
      "MSE: 1.1986\n"
     ]
    }
   ],
   "source": [
    "# 设置超参数列表进行网格搜索法调参\n",
    "# 用验证集上的表现来选取最优参数\n",
    "\n",
    "n_factors_lst = [10, 50, 100, 200]\n",
    "reg_all_lst = [0.01, 0.02, 0.03, 0.05]\n",
    "\n",
    "res_df = {'para': [], 'mae': [], 'mse': []}\n",
    "for n in n_factors_lst:\n",
    "    for reg_all in reg_all_lst:\n",
    "        print(f'Fitting factor: {n}, reg:{reg_all}')\n",
    "        res_df['para'].append(f\"{n},{reg_all}\")\n",
    "        bias_sgd = SVD(n_factors=n, n_epochs=30, lr_all=0.005, reg_all=reg_all)\n",
    "        bias_sgd.fit(train_set)\n",
    "        predictions = bias_sgd.test(val_set)\n",
    "        res_df['mae'].append(accuracy.mae(predictions))\n",
    "        res_df['mse'].append(accuracy.mse(predictions))"
   ]
  },
  {
   "cell_type": "code",
   "execution_count": 42,
   "metadata": {
    "scrolled": true
   },
   "outputs": [
    {
     "data": {
      "text/html": [
       "<div>\n",
       "<style scoped>\n",
       "    .dataframe tbody tr th:only-of-type {\n",
       "        vertical-align: middle;\n",
       "    }\n",
       "\n",
       "    .dataframe tbody tr th {\n",
       "        vertical-align: top;\n",
       "    }\n",
       "\n",
       "    .dataframe thead th {\n",
       "        text-align: right;\n",
       "    }\n",
       "</style>\n",
       "<table border=\"1\" class=\"dataframe\">\n",
       "  <thead>\n",
       "    <tr style=\"text-align: right;\">\n",
       "      <th></th>\n",
       "      <th>para</th>\n",
       "      <th>mae</th>\n",
       "      <th>mse</th>\n",
       "    </tr>\n",
       "  </thead>\n",
       "  <tbody>\n",
       "    <tr>\n",
       "      <th>0</th>\n",
       "      <td>10,0.01</td>\n",
       "      <td>0.821631</td>\n",
       "      <td>1.186248</td>\n",
       "    </tr>\n",
       "    <tr>\n",
       "      <th>1</th>\n",
       "      <td>10,0.02</td>\n",
       "      <td>0.822572</td>\n",
       "      <td>1.186152</td>\n",
       "    </tr>\n",
       "    <tr>\n",
       "      <th>2</th>\n",
       "      <td>10,0.03</td>\n",
       "      <td>0.822677</td>\n",
       "      <td>1.184347</td>\n",
       "    </tr>\n",
       "    <tr>\n",
       "      <th>3</th>\n",
       "      <td>10,0.05</td>\n",
       "      <td>0.823190</td>\n",
       "      <td>1.182164</td>\n",
       "    </tr>\n",
       "    <tr>\n",
       "      <th>4</th>\n",
       "      <td>50,0.03</td>\n",
       "      <td>0.825971</td>\n",
       "      <td>1.188587</td>\n",
       "    </tr>\n",
       "    <tr>\n",
       "      <th>5</th>\n",
       "      <td>50,0.02</td>\n",
       "      <td>0.826106</td>\n",
       "      <td>1.192792</td>\n",
       "    </tr>\n",
       "    <tr>\n",
       "      <th>6</th>\n",
       "      <td>50,0.01</td>\n",
       "      <td>0.826516</td>\n",
       "      <td>1.195176</td>\n",
       "    </tr>\n",
       "    <tr>\n",
       "      <th>7</th>\n",
       "      <td>50,0.05</td>\n",
       "      <td>0.826520</td>\n",
       "      <td>1.186558</td>\n",
       "    </tr>\n",
       "    <tr>\n",
       "      <th>8</th>\n",
       "      <td>100,0.05</td>\n",
       "      <td>0.829048</td>\n",
       "      <td>1.190026</td>\n",
       "    </tr>\n",
       "    <tr>\n",
       "      <th>9</th>\n",
       "      <td>100,0.03</td>\n",
       "      <td>0.829188</td>\n",
       "      <td>1.196336</td>\n",
       "    </tr>\n",
       "    <tr>\n",
       "      <th>10</th>\n",
       "      <td>100,0.02</td>\n",
       "      <td>0.830709</td>\n",
       "      <td>1.200818</td>\n",
       "    </tr>\n",
       "    <tr>\n",
       "      <th>11</th>\n",
       "      <td>100,0.01</td>\n",
       "      <td>0.830784</td>\n",
       "      <td>1.200338</td>\n",
       "    </tr>\n",
       "    <tr>\n",
       "      <th>12</th>\n",
       "      <td>200,0.05</td>\n",
       "      <td>0.835201</td>\n",
       "      <td>1.198558</td>\n",
       "    </tr>\n",
       "    <tr>\n",
       "      <th>13</th>\n",
       "      <td>200,0.02</td>\n",
       "      <td>0.836951</td>\n",
       "      <td>1.208555</td>\n",
       "    </tr>\n",
       "    <tr>\n",
       "      <th>14</th>\n",
       "      <td>200,0.01</td>\n",
       "      <td>0.837601</td>\n",
       "      <td>1.212817</td>\n",
       "    </tr>\n",
       "    <tr>\n",
       "      <th>15</th>\n",
       "      <td>200,0.03</td>\n",
       "      <td>0.838725</td>\n",
       "      <td>1.208075</td>\n",
       "    </tr>\n",
       "  </tbody>\n",
       "</table>\n",
       "</div>"
      ],
      "text/plain": [
       "        para       mae       mse\n",
       "0    10,0.01  0.821631  1.186248\n",
       "1    10,0.02  0.822572  1.186152\n",
       "2    10,0.03  0.822677  1.184347\n",
       "3    10,0.05  0.823190  1.182164\n",
       "4    50,0.03  0.825971  1.188587\n",
       "5    50,0.02  0.826106  1.192792\n",
       "6    50,0.01  0.826516  1.195176\n",
       "7    50,0.05  0.826520  1.186558\n",
       "8   100,0.05  0.829048  1.190026\n",
       "9   100,0.03  0.829188  1.196336\n",
       "10  100,0.02  0.830709  1.200818\n",
       "11  100,0.01  0.830784  1.200338\n",
       "12  200,0.05  0.835201  1.198558\n",
       "13  200,0.02  0.836951  1.208555\n",
       "14  200,0.01  0.837601  1.212817\n",
       "15  200,0.03  0.838725  1.208075"
      ]
     },
     "execution_count": 42,
     "metadata": {},
     "output_type": "execute_result"
    }
   ],
   "source": [
    "# 所有参数的结果\n",
    "res_df = pd.DataFrame(res_df)\n",
    "# 因为 mse 会对于异常值有较大的损失，mae 更能体现一种平均意义上的损失，\n",
    "# 因此我们认为相比于 mae 指标对于我们选择参数更加重要，所以排序的时候 mae 在前，mse 在后\n",
    "# 不过其实从结果来看，模型如果 mae 较低，mse 也较低，二者基本是通向变化的\n",
    "res_df = res_df.sort_values(by=['mae', 'mse']).reset_index(drop=True)\n",
    "res_df"
   ]
  },
  {
   "cell_type": "code",
   "execution_count": 46,
   "metadata": {
    "scrolled": false
   },
   "outputs": [
    {
     "data": {
      "text/plain": [
       "[<matplotlib.lines.Line2D at 0x7fd13c16c850>]"
      ]
     },
     "execution_count": 46,
     "metadata": {},
     "output_type": "execute_result"
    },
    {
     "data": {
      "text/plain": [
       "<matplotlib.collections.PathCollection at 0x7fd13cb91250>"
      ]
     },
     "execution_count": 46,
     "metadata": {},
     "output_type": "execute_result"
    },
    {
     "data": {
      "text/plain": [
       "[<matplotlib.lines.Line2D at 0x7fd13bf8b2d0>]"
      ]
     },
     "execution_count": 46,
     "metadata": {},
     "output_type": "execute_result"
    },
    {
     "data": {
      "text/plain": [
       "<matplotlib.legend.Legend at 0x7fd18d668810>"
      ]
     },
     "execution_count": 46,
     "metadata": {},
     "output_type": "execute_result"
    },
    {
     "data": {
      "image/png": "[encoded data removed]",
      "text/plain": [
       "<Figure size 864x288 with 2 Axes>"
      ]
     },
     "metadata": {
      "needs_background": "light"
     },
     "output_type": "display_data"
    }
   ],
   "source": [
    "fig = plt.figure(figsize=(12, 4))\n",
    "ax1 = fig.add_subplot(111)\n",
    "xtick = [f\"para{i}\" for i in range(len(res_df))]\n",
    "ax1.plot(xtick, res_df['mae'], label='mae', color='r')\n",
    "ax1.scatter(xtick[:1], res_df['mae'].tolist()[:1], marker='*', label='best', color='blue')\n",
    "ax2 = ax1.twinx()\n",
    "ax2.plot(xtick, res_df['mse'], label='mse', color='g')\n",
    "fig.legend()"
   ]
  },
  {
   "cell_type": "markdown",
   "metadata": {},
   "source": [
    "标注出最优参数\n",
    "- n = 10\n",
    "- reg_all = 0.01"
   ]
  },
  {
   "cell_type": "code",
   "execution_count": 67,
   "metadata": {
    "scrolled": true
   },
   "outputs": [
    {
     "data": {
      "text/plain": [
       "<surprise.prediction_algorithms.matrix_factorization.SVD at 0x7fd18fd0df90>"
      ]
     },
     "execution_count": 67,
     "metadata": {},
     "output_type": "execute_result"
    },
    {
     "name": "stdout",
     "output_type": "stream",
     "text": [
      "MAE:  0.8290\n",
      "MSE: 1.2214\n"
     ]
    },
    {
     "data": {
      "text/plain": [
       "(0.8290480470206647, 1.2213790113726917)"
      ]
     },
     "execution_count": 67,
     "metadata": {},
     "output_type": "execute_result"
    }
   ],
   "source": [
    "# 测试集（90% 数据参与训练）\n",
    "\n",
    "bias_sgd = SVD(n_factors=10, n_epochs=30, lr_all=0.005, reg_all=0.01)\n",
    "bias_sgd.fit(new_train_set)\n",
    "predictions = bias_sgd.test(test_set)\n",
    "print_metrics_sp(predictions)"
   ]
  },
  {
   "cell_type": "code",
   "execution_count": 72,
   "metadata": {},
   "outputs": [
    {
     "data": {
      "text/plain": [
       "<surprise.prediction_algorithms.matrix_factorization.SVD at 0x7fd18b084890>"
      ]
     },
     "execution_count": 72,
     "metadata": {},
     "output_type": "execute_result"
    },
    {
     "name": "stdout",
     "output_type": "stream",
     "text": [
      "MAE:  0.8568\n",
      "MSE: 1.2599\n"
     ]
    },
    {
     "data": {
      "text/plain": [
       "(0.8568192156237626, 1.2599130011685071)"
      ]
     },
     "execution_count": 72,
     "metadata": {},
     "output_type": "execute_result"
    }
   ],
   "source": [
    "# 测试集（80% 数据参与训练）\n",
    "\n",
    "bias_sgd = SVD(n_factors=10, n_epochs=30, lr_all=0.005, reg_all=0.01)\n",
    "bias_sgd.fit(train_set)\n",
    "predictions = bias_sgd.test(test_set)\n",
    "print_metrics_sp(predictions)"
   ]
  },
  {
   "cell_type": "markdown",
   "metadata": {},
   "source": [
    "同上，可以看出数据越多，模型表现更好"
   ]
  },
  {
   "cell_type": "markdown",
   "metadata": {},
   "source": [
    "## KNNBasic"
   ]
  },
  {
   "cell_type": "code",
   "execution_count": 47,
   "metadata": {
    "scrolled": false
   },
   "outputs": [
    {
     "name": "stdout",
     "output_type": "stream",
     "text": [
      "Estimating biases using als...\n",
      "Computing the msd similarity matrix...\n",
      "Done computing similarity matrix.\n"
     ]
    },
    {
     "data": {
      "text/plain": [
       "<surprise.prediction_algorithms.knns.KNNBaseline at 0x7fd18b084f10>"
      ]
     },
     "execution_count": 47,
     "metadata": {},
     "output_type": "execute_result"
    },
    {
     "name": "stdout",
     "output_type": "stream",
     "text": [
      "MAE:  0.8447\n",
      "MSE: 1.3351\n"
     ]
    },
    {
     "data": {
      "text/plain": [
       "(0.8446775544982594, 1.3351487067036343)"
      ]
     },
     "execution_count": 47,
     "metadata": {},
     "output_type": "execute_result"
    }
   ],
   "source": [
    "knn_model = KNNBaseline(k=40, min_k=1)\n",
    "knn_model.fit(new_train_set)\n",
    "predictions = knn_model.test(test_set)\n",
    "print_metrics_sp(predictions)"
   ]
  },
  {
   "cell_type": "code",
   "execution_count": 77,
   "metadata": {
    "scrolled": true
   },
   "outputs": [
    {
     "name": "stdout",
     "output_type": "stream",
     "text": [
      "Fitting k: 50, min_k:1\n",
      "Estimating biases using als...\n",
      "Computing the msd similarity matrix...\n",
      "Done computing similarity matrix.\n"
     ]
    },
    {
     "data": {
      "text/plain": [
       "<surprise.prediction_algorithms.knns.KNNBaseline at 0x7fd18db33390>"
      ]
     },
     "execution_count": 77,
     "metadata": {},
     "output_type": "execute_result"
    },
    {
     "name": "stdout",
     "output_type": "stream",
     "text": [
      "MAE:  0.8408\n",
      "MSE: 1.2903\n",
      "Fitting k: 50, min_k:2\n",
      "Estimating biases using als...\n",
      "Computing the msd similarity matrix...\n",
      "Done computing similarity matrix.\n"
     ]
    },
    {
     "data": {
      "text/plain": [
       "<surprise.prediction_algorithms.knns.KNNBaseline at 0x7fd18fce6710>"
      ]
     },
     "execution_count": 77,
     "metadata": {},
     "output_type": "execute_result"
    },
    {
     "name": "stdout",
     "output_type": "stream",
     "text": [
      "MAE:  0.8383\n",
      "MSE: 1.2157\n",
      "Fitting k: 50, min_k:3\n",
      "Estimating biases using als...\n",
      "Computing the msd similarity matrix...\n",
      "Done computing similarity matrix.\n"
     ]
    },
    {
     "data": {
      "text/plain": [
       "<surprise.prediction_algorithms.knns.KNNBaseline at 0x7fd18fcf0d10>"
      ]
     },
     "execution_count": 77,
     "metadata": {},
     "output_type": "execute_result"
    },
    {
     "name": "stdout",
     "output_type": "stream",
     "text": [
      "MAE:  0.8397\n",
      "MSE: 1.1993\n",
      "Fitting k: 50, min_k:10\n",
      "Estimating biases using als...\n",
      "Computing the msd similarity matrix...\n",
      "Done computing similarity matrix.\n"
     ]
    },
    {
     "data": {
      "text/plain": [
       "<surprise.prediction_algorithms.knns.KNNBaseline at 0x7fd13c61f8d0>"
      ]
     },
     "execution_count": 77,
     "metadata": {},
     "output_type": "execute_result"
    },
    {
     "name": "stdout",
     "output_type": "stream",
     "text": [
      "MAE:  0.8442\n",
      "MSE: 1.1933\n",
      "Fitting k: 100, min_k:1\n",
      "Estimating biases using als...\n",
      "Computing the msd similarity matrix...\n",
      "Done computing similarity matrix.\n"
     ]
    },
    {
     "data": {
      "text/plain": [
       "<surprise.prediction_algorithms.knns.KNNBaseline at 0x7fd165537290>"
      ]
     },
     "execution_count": 77,
     "metadata": {},
     "output_type": "execute_result"
    },
    {
     "name": "stdout",
     "output_type": "stream",
     "text": [
      "MAE:  0.8408\n",
      "MSE: 1.2903\n",
      "Fitting k: 100, min_k:2\n",
      "Estimating biases using als...\n",
      "Computing the msd similarity matrix...\n",
      "Done computing similarity matrix.\n"
     ]
    },
    {
     "data": {
      "text/plain": [
       "<surprise.prediction_algorithms.knns.KNNBaseline at 0x7fd165537e10>"
      ]
     },
     "execution_count": 77,
     "metadata": {},
     "output_type": "execute_result"
    },
    {
     "name": "stdout",
     "output_type": "stream",
     "text": [
      "MAE:  0.8383\n",
      "MSE: 1.2157\n",
      "Fitting k: 100, min_k:3\n",
      "Estimating biases using als...\n",
      "Computing the msd similarity matrix...\n",
      "Done computing similarity matrix.\n"
     ]
    },
    {
     "data": {
      "text/plain": [
       "<surprise.prediction_algorithms.knns.KNNBaseline at 0x7fd165537550>"
      ]
     },
     "execution_count": 77,
     "metadata": {},
     "output_type": "execute_result"
    },
    {
     "name": "stdout",
     "output_type": "stream",
     "text": [
      "MAE:  0.8397\n",
      "MSE: 1.1993\n",
      "Fitting k: 100, min_k:10\n",
      "Estimating biases using als...\n",
      "Computing the msd similarity matrix...\n",
      "Done computing similarity matrix.\n"
     ]
    },
    {
     "data": {
      "text/plain": [
       "<surprise.prediction_algorithms.knns.KNNBaseline at 0x7fd18b6bd650>"
      ]
     },
     "execution_count": 77,
     "metadata": {},
     "output_type": "execute_result"
    },
    {
     "name": "stdout",
     "output_type": "stream",
     "text": [
      "MAE:  0.8442\n",
      "MSE: 1.1933\n",
      "Fitting k: 200, min_k:1\n",
      "Estimating biases using als...\n",
      "Computing the msd similarity matrix...\n",
      "Done computing similarity matrix.\n"
     ]
    },
    {
     "data": {
      "text/plain": [
       "<surprise.prediction_algorithms.knns.KNNBaseline at 0x7fd165537850>"
      ]
     },
     "execution_count": 77,
     "metadata": {},
     "output_type": "execute_result"
    },
    {
     "name": "stdout",
     "output_type": "stream",
     "text": [
      "MAE:  0.8408\n",
      "MSE: 1.2903\n",
      "Fitting k: 200, min_k:2\n",
      "Estimating biases using als...\n",
      "Computing the msd similarity matrix...\n",
      "Done computing similarity matrix.\n"
     ]
    },
    {
     "data": {
      "text/plain": [
       "<surprise.prediction_algorithms.knns.KNNBaseline at 0x7fd1655375d0>"
      ]
     },
     "execution_count": 77,
     "metadata": {},
     "output_type": "execute_result"
    },
    {
     "name": "stdout",
     "output_type": "stream",
     "text": [
      "MAE:  0.8383\n",
      "MSE: 1.2157\n",
      "Fitting k: 200, min_k:3\n",
      "Estimating biases using als...\n",
      "Computing the msd similarity matrix...\n",
      "Done computing similarity matrix.\n"
     ]
    },
    {
     "data": {
      "text/plain": [
       "<surprise.prediction_algorithms.knns.KNNBaseline at 0x7fd18fce6710>"
      ]
     },
     "execution_count": 77,
     "metadata": {},
     "output_type": "execute_result"
    },
    {
     "name": "stdout",
     "output_type": "stream",
     "text": [
      "MAE:  0.8397\n",
      "MSE: 1.1993\n",
      "Fitting k: 200, min_k:10\n",
      "Estimating biases using als...\n",
      "Computing the msd similarity matrix...\n",
      "Done computing similarity matrix.\n"
     ]
    },
    {
     "data": {
      "text/plain": [
       "<surprise.prediction_algorithms.knns.KNNBaseline at 0x7fd165537f10>"
      ]
     },
     "execution_count": 77,
     "metadata": {},
     "output_type": "execute_result"
    },
    {
     "name": "stdout",
     "output_type": "stream",
     "text": [
      "MAE:  0.8442\n",
      "MSE: 1.1933\n",
      "Fitting k: 300, min_k:1\n",
      "Estimating biases using als...\n",
      "Computing the msd similarity matrix...\n",
      "Done computing similarity matrix.\n"
     ]
    },
    {
     "data": {
      "text/plain": [
       "<surprise.prediction_algorithms.knns.KNNBaseline at 0x7fd165537390>"
      ]
     },
     "execution_count": 77,
     "metadata": {},
     "output_type": "execute_result"
    },
    {
     "name": "stdout",
     "output_type": "stream",
     "text": [
      "MAE:  0.8408\n",
      "MSE: 1.2903\n",
      "Fitting k: 300, min_k:2\n",
      "Estimating biases using als...\n",
      "Computing the msd similarity matrix...\n",
      "Done computing similarity matrix.\n"
     ]
    },
    {
     "data": {
      "text/plain": [
       "<surprise.prediction_algorithms.knns.KNNBaseline at 0x7fd12ae03b50>"
      ]
     },
     "execution_count": 77,
     "metadata": {},
     "output_type": "execute_result"
    },
    {
     "name": "stdout",
     "output_type": "stream",
     "text": [
      "MAE:  0.8383\n",
      "MSE: 1.2157\n",
      "Fitting k: 300, min_k:3\n",
      "Estimating biases using als...\n",
      "Computing the msd similarity matrix...\n",
      "Done computing similarity matrix.\n"
     ]
    },
    {
     "data": {
      "text/plain": [
       "<surprise.prediction_algorithms.knns.KNNBaseline at 0x7fd13be26690>"
      ]
     },
     "execution_count": 77,
     "metadata": {},
     "output_type": "execute_result"
    },
    {
     "name": "stdout",
     "output_type": "stream",
     "text": [
      "MAE:  0.8397\n",
      "MSE: 1.1993\n",
      "Fitting k: 300, min_k:10\n",
      "Estimating biases using als...\n",
      "Computing the msd similarity matrix...\n",
      "Done computing similarity matrix.\n"
     ]
    },
    {
     "data": {
      "text/plain": [
       "<surprise.prediction_algorithms.knns.KNNBaseline at 0x7fd13c54e650>"
      ]
     },
     "execution_count": 77,
     "metadata": {},
     "output_type": "execute_result"
    },
    {
     "name": "stdout",
     "output_type": "stream",
     "text": [
      "MAE:  0.8442\n",
      "MSE: 1.1933\n"
     ]
    }
   ],
   "source": [
    "# 设置超参数列表进行网格搜索法调参\n",
    "# 用验证集上的表现来选取最优参数\n",
    "\n",
    "k_lst = [50, 100, 200, 300]\n",
    "min_k_lst = [1, 2, 3, 10]\n",
    "\n",
    "res_df = {'para': [], 'mae': [], 'mse': []}\n",
    "for k in k_lst:\n",
    "    for min_k in min_k_lst:\n",
    "        print(f'Fitting k: {k}, min_k:{min_k}')\n",
    "        res_df['para'].append(f\"{k},{min_k}\")\n",
    "        knn_model = KNNBaseline(k=k, min_k=min_k)\n",
    "        knn_model.fit(train_set)\n",
    "        predictions = knn_model.test(val_set)\n",
    "        res_df['mae'].append(accuracy.mae(predictions))\n",
    "        res_df['mse'].append(accuracy.mse(predictions))"
   ]
  },
  {
   "cell_type": "code",
   "execution_count": 78,
   "metadata": {
    "scrolled": true
   },
   "outputs": [
    {
     "data": {
      "text/html": [
       "<div>\n",
       "<style scoped>\n",
       "    .dataframe tbody tr th:only-of-type {\n",
       "        vertical-align: middle;\n",
       "    }\n",
       "\n",
       "    .dataframe tbody tr th {\n",
       "        vertical-align: top;\n",
       "    }\n",
       "\n",
       "    .dataframe thead th {\n",
       "        text-align: right;\n",
       "    }\n",
       "</style>\n",
       "<table border=\"1\" class=\"dataframe\">\n",
       "  <thead>\n",
       "    <tr style=\"text-align: right;\">\n",
       "      <th></th>\n",
       "      <th>para</th>\n",
       "      <th>mae</th>\n",
       "      <th>mse</th>\n",
       "    </tr>\n",
       "  </thead>\n",
       "  <tbody>\n",
       "    <tr>\n",
       "      <th>0</th>\n",
       "      <td>200,2</td>\n",
       "      <td>0.838270</td>\n",
       "      <td>1.215742</td>\n",
       "    </tr>\n",
       "    <tr>\n",
       "      <th>1</th>\n",
       "      <td>300,2</td>\n",
       "      <td>0.838270</td>\n",
       "      <td>1.215742</td>\n",
       "    </tr>\n",
       "    <tr>\n",
       "      <th>2</th>\n",
       "      <td>100,2</td>\n",
       "      <td>0.838271</td>\n",
       "      <td>1.215742</td>\n",
       "    </tr>\n",
       "    <tr>\n",
       "      <th>3</th>\n",
       "      <td>50,2</td>\n",
       "      <td>0.838275</td>\n",
       "      <td>1.215742</td>\n",
       "    </tr>\n",
       "    <tr>\n",
       "      <th>4</th>\n",
       "      <td>200,3</td>\n",
       "      <td>0.839672</td>\n",
       "      <td>1.199332</td>\n",
       "    </tr>\n",
       "    <tr>\n",
       "      <th>5</th>\n",
       "      <td>300,3</td>\n",
       "      <td>0.839672</td>\n",
       "      <td>1.199332</td>\n",
       "    </tr>\n",
       "    <tr>\n",
       "      <th>6</th>\n",
       "      <td>100,3</td>\n",
       "      <td>0.839672</td>\n",
       "      <td>1.199332</td>\n",
       "    </tr>\n",
       "    <tr>\n",
       "      <th>7</th>\n",
       "      <td>50,3</td>\n",
       "      <td>0.839676</td>\n",
       "      <td>1.199332</td>\n",
       "    </tr>\n",
       "    <tr>\n",
       "      <th>8</th>\n",
       "      <td>200,1</td>\n",
       "      <td>0.840819</td>\n",
       "      <td>1.290281</td>\n",
       "    </tr>\n",
       "    <tr>\n",
       "      <th>9</th>\n",
       "      <td>300,1</td>\n",
       "      <td>0.840819</td>\n",
       "      <td>1.290281</td>\n",
       "    </tr>\n",
       "    <tr>\n",
       "      <th>10</th>\n",
       "      <td>100,1</td>\n",
       "      <td>0.840819</td>\n",
       "      <td>1.290281</td>\n",
       "    </tr>\n",
       "    <tr>\n",
       "      <th>11</th>\n",
       "      <td>50,1</td>\n",
       "      <td>0.840823</td>\n",
       "      <td>1.290281</td>\n",
       "    </tr>\n",
       "    <tr>\n",
       "      <th>12</th>\n",
       "      <td>200,10</td>\n",
       "      <td>0.844220</td>\n",
       "      <td>1.193306</td>\n",
       "    </tr>\n",
       "    <tr>\n",
       "      <th>13</th>\n",
       "      <td>300,10</td>\n",
       "      <td>0.844220</td>\n",
       "      <td>1.193306</td>\n",
       "    </tr>\n",
       "    <tr>\n",
       "      <th>14</th>\n",
       "      <td>100,10</td>\n",
       "      <td>0.844220</td>\n",
       "      <td>1.193306</td>\n",
       "    </tr>\n",
       "    <tr>\n",
       "      <th>15</th>\n",
       "      <td>50,10</td>\n",
       "      <td>0.844224</td>\n",
       "      <td>1.193306</td>\n",
       "    </tr>\n",
       "  </tbody>\n",
       "</table>\n",
       "</div>"
      ],
      "text/plain": [
       "      para       mae       mse\n",
       "0    200,2  0.838270  1.215742\n",
       "1    300,2  0.838270  1.215742\n",
       "2    100,2  0.838271  1.215742\n",
       "3     50,2  0.838275  1.215742\n",
       "4    200,3  0.839672  1.199332\n",
       "5    300,3  0.839672  1.199332\n",
       "6    100,3  0.839672  1.199332\n",
       "7     50,3  0.839676  1.199332\n",
       "8    200,1  0.840819  1.290281\n",
       "9    300,1  0.840819  1.290281\n",
       "10   100,1  0.840819  1.290281\n",
       "11    50,1  0.840823  1.290281\n",
       "12  200,10  0.844220  1.193306\n",
       "13  300,10  0.844220  1.193306\n",
       "14  100,10  0.844220  1.193306\n",
       "15   50,10  0.844224  1.193306"
      ]
     },
     "execution_count": 78,
     "metadata": {},
     "output_type": "execute_result"
    }
   ],
   "source": [
    "res_df = pd.DataFrame(res_df)\n",
    "# 因为 mse 会对于异常值有较大的损失，mae 更能体现一种平均意义上的损失，\n",
    "# 因此我们认为相比于 mae 指标对于我们选择参数更加重要，所以排序的时候 mae 在前，mse 在后\n",
    "# 不过其实从结果来看，模型如果 mae 较低，mse 也较低，二者基本是通向变化的\n",
    "res_df = res_df.sort_values(by=['mae', 'mse']).reset_index(drop=True)\n",
    "res_df"
   ]
  },
  {
   "cell_type": "code",
   "execution_count": 80,
   "metadata": {
    "scrolled": true
   },
   "outputs": [
    {
     "data": {
      "text/plain": [
       "[<matplotlib.lines.Line2D at 0x7fd18de878d0>]"
      ]
     },
     "execution_count": 80,
     "metadata": {},
     "output_type": "execute_result"
    },
    {
     "data": {
      "text/plain": [
       "<matplotlib.collections.PathCollection at 0x7fd18db17b10>"
      ]
     },
     "execution_count": 80,
     "metadata": {},
     "output_type": "execute_result"
    },
    {
     "data": {
      "text/plain": [
       "[<matplotlib.lines.Line2D at 0x7fd18b06c790>]"
      ]
     },
     "execution_count": 80,
     "metadata": {},
     "output_type": "execute_result"
    },
    {
     "data": {
      "text/plain": [
       "<matplotlib.legend.Legend at 0x7fd18de7a550>"
      ]
     },
     "execution_count": 80,
     "metadata": {},
     "output_type": "execute_result"
    },
    {
     "data": {
      "image/png": "[encoded data removed]",
      "text/plain": [
       "<Figure size 864x288 with 2 Axes>"
      ]
     },
     "metadata": {
      "needs_background": "light"
     },
     "output_type": "display_data"
    }
   ],
   "source": [
    "# 图上的波动性可能由于模型对其中一个参数更为敏感\n",
    "# 不过整体而言，我们仍然能够找到最优的参数\n",
    "fig = plt.figure(figsize=(12, 4))\n",
    "ax1 = fig.add_subplot(111)\n",
    "xtick = [f\"para{i}\" for i in range(len(res_df))]\n",
    "ax1.plot(xtick, res_df['mae'], label='mae', color='r')\n",
    "ax1.scatter(xtick[:1], res_df['mae'].tolist()[:1], marker='*', label='best', color='blue')\n",
    "ax2 = ax1.twinx()\n",
    "ax2.plot(xtick, res_df['mse'], label='mse', color='g')\n",
    "fig.legend()"
   ]
  },
  {
   "cell_type": "markdown",
   "metadata": {},
   "source": [
    "选择择最优参数\n",
    "- k = 200\n",
    "- min_k = 2"
   ]
  },
  {
   "cell_type": "code",
   "execution_count": 81,
   "metadata": {},
   "outputs": [
    {
     "name": "stdout",
     "output_type": "stream",
     "text": [
      "Estimating biases using als...\n",
      "Computing the msd similarity matrix...\n",
      "Done computing similarity matrix.\n"
     ]
    },
    {
     "data": {
      "text/plain": [
       "<surprise.prediction_algorithms.knns.KNNBaseline at 0x7fd18d686c10>"
      ]
     },
     "execution_count": 81,
     "metadata": {},
     "output_type": "execute_result"
    },
    {
     "name": "stdout",
     "output_type": "stream",
     "text": [
      "MAE:  0.8421\n",
      "MSE: 1.2509\n"
     ]
    },
    {
     "data": {
      "text/plain": [
       "(0.8421145848939195, 1.2508695895744608)"
      ]
     },
     "execution_count": 81,
     "metadata": {},
     "output_type": "execute_result"
    }
   ],
   "source": [
    "# 测试集（90%数据参与训练）\n",
    "\n",
    "knn_model = KNNBaseline(k=200, min_k=2)\n",
    "knn_model.fit(new_train_set)\n",
    "predictions = knn_model.test(test_set)\n",
    "print_metrics_sp(predictions)"
   ]
  },
  {
   "cell_type": "code",
   "execution_count": 82,
   "metadata": {},
   "outputs": [
    {
     "name": "stdout",
     "output_type": "stream",
     "text": [
      "Estimating biases using als...\n",
      "Computing the msd similarity matrix...\n",
      "Done computing similarity matrix.\n"
     ]
    },
    {
     "data": {
      "text/plain": [
       "<surprise.prediction_algorithms.knns.KNNBaseline at 0x7fd18d6646d0>"
      ]
     },
     "execution_count": 82,
     "metadata": {},
     "output_type": "execute_result"
    },
    {
     "name": "stdout",
     "output_type": "stream",
     "text": [
      "MAE:  0.8710\n",
      "MSE: 1.2770\n"
     ]
    },
    {
     "data": {
      "text/plain": [
       "(0.8710437676618674, 1.2770479522955085)"
      ]
     },
     "execution_count": 82,
     "metadata": {},
     "output_type": "execute_result"
    }
   ],
   "source": [
    "# 测试集（80%数据参与训练）\n",
    "\n",
    "knn_model = KNNBaseline(k=200, min_k=2)\n",
    "knn_model.fit(train_set)\n",
    "predictions = knn_model.test(test_set)\n",
    "print_metrics_sp(predictions)"
   ]
  },
  {
   "cell_type": "markdown",
   "metadata": {},
   "source": [
    "同上，可以看出数据越多，模型表现更好"
   ]
  },
  {
   "cell_type": "code",
   "execution_count": null,
   "metadata": {},
   "outputs": [],
   "source": []
  }
 ],
 "metadata": {
  "kernelspec": {
   "display_name": "Python [conda env:py_tf]",
   "language": "python",
   "name": "conda-env-py_tf-py"
  },
  "language_info": {
   "codemirror_mode": {
    "name": "ipython",
    "version": 3
   },
   "file_extension": ".py",
   "mimetype": "text/x-python",
   "name": "python",
   "nbconvert_exporter": "python",
   "pygments_lexer": "ipython3",
   "version": "3.7.10"
  },
  "toc": {
   "base_numbering": 1,
   "nav_menu": {},
   "number_sections": true,
   "sideBar": true,
   "skip_h1_title": false,
   "title_cell": "Table of Contents",
   "title_sidebar": "Contents",
   "toc_cell": true,
   "toc_position": {
    "height": "calc(100% - 180px)",
    "left": "10px",
    "top": "150px",
    "width": "288px"
   },
   "toc_section_display": true,
   "toc_window_display": true
  },
  "varInspector": {
   "cols": {
    "lenName": 16,
    "lenType": 16,
    "lenVar": 40
   },
   "kernels_config": {
    "python": {
     "delete_cmd_postfix": "",
     "delete_cmd_prefix": "del ",
     "library": "var_list.py",
     "varRefreshCmd": "print(var_dic_list())"
    },
    "r": {
     "delete_cmd_postfix": ") ",
     "delete_cmd_prefix": "rm(",
     "library": "var_list.r",
     "varRefreshCmd": "cat(var_dic_list()) "
    }
   },
   "types_to_exclude": [
    "module",
    "function",
    "builtin_function_or_method",
    "instance",
    "_Feature"
   ],
   "window_display": false
  }
 },
 "nbformat": 4,
 "nbformat_minor": 4
}
