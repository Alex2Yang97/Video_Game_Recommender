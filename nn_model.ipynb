{
 "cells": [
  {
   "cell_type": "markdown",
   "metadata": {
    "toc": true
   },
   "source": [
    "<h1>Table of Contents<span class=\"tocSkip\"></span></h1>\n",
    "<div class=\"toc\"><ul class=\"toc-item\"><li><span><a href=\"#Get-Raw-data\" data-toc-modified-id=\"Get-Raw-data-1\"><span class=\"toc-item-num\">1&nbsp;&nbsp;</span>Get Raw data</a></span></li><li><span><a href=\"#Statistical-Description\" data-toc-modified-id=\"Statistical-Description-2\"><span class=\"toc-item-num\">2&nbsp;&nbsp;</span>Statistical Description</a></span></li><li><span><a href=\"#NLP-data-processing\" data-toc-modified-id=\"NLP-data-processing-3\"><span class=\"toc-item-num\">3&nbsp;&nbsp;</span>NLP data processing</a></span></li></ul></div>"
   ]
  },
  {
   "cell_type": "code",
   "execution_count": 1,
   "metadata": {
    "ExecuteTime": {
     "end_time": "2021-04-25T16:12:19.790806Z",
     "start_time": "2021-04-25T16:12:18.253149Z"
    }
   },
   "outputs": [],
   "source": [
    "import os\n",
    "import gzip\n",
    "import json\n",
    "import pandas as pd\n",
    "import numpy as np\n",
    "\n",
    "from config import RAW_DIR, PRE_DIR, RES_DIR\n",
    "from utils.data_porter import read_from_csv, save_to_csv"
   ]
  },
  {
   "cell_type": "markdown",
   "metadata": {},
   "source": [
    "# Get Raw data"
   ]
  },
  {
   "cell_type": "code",
   "execution_count": 2,
   "metadata": {
    "ExecuteTime": {
     "end_time": "2021-04-25T16:12:22.219361Z",
     "start_time": "2021-04-25T16:12:22.216538Z"
    }
   },
   "outputs": [],
   "source": [
    "df_vgame_dir = os.path.join(RAW_DIR, 'Video_Games.csv')\n",
    "gz_vgame_dir = os.path.join(RAW_DIR, 'Video_Games_5.json.gz')"
   ]
  },
  {
   "cell_type": "code",
   "execution_count": 3,
   "metadata": {
    "ExecuteTime": {
     "end_time": "2021-04-25T16:12:25.809942Z",
     "start_time": "2021-04-25T16:12:23.808742Z"
    }
   },
   "outputs": [
    {
     "name": "stdout",
     "output_type": "stream",
     "text": [
      "\n"
     ]
    },
    {
     "data": {
      "text/html": [
       "<div>\n",
       "<style scoped>\n",
       "    .dataframe tbody tr th:only-of-type {\n",
       "        vertical-align: middle;\n",
       "    }\n",
       "\n",
       "    .dataframe tbody tr th {\n",
       "        vertical-align: top;\n",
       "    }\n",
       "\n",
       "    .dataframe thead th {\n",
       "        text-align: right;\n",
       "    }\n",
       "</style>\n",
       "<table border=\"1\" class=\"dataframe\">\n",
       "  <thead>\n",
       "    <tr style=\"text-align: right;\">\n",
       "      <th></th>\n",
       "      <th>ProductID</th>\n",
       "      <th>ReviewerID</th>\n",
       "      <th>Rating</th>\n",
       "      <th>TimeStamp</th>\n",
       "    </tr>\n",
       "  </thead>\n",
       "  <tbody>\n",
       "    <tr>\n",
       "      <th>0</th>\n",
       "      <td>0439381673</td>\n",
       "      <td>A21ROB4YDOZA5P</td>\n",
       "      <td>1.0</td>\n",
       "      <td>2014-06-09</td>\n",
       "    </tr>\n",
       "    <tr>\n",
       "      <th>1</th>\n",
       "      <td>0439381673</td>\n",
       "      <td>A3TNZ2Q5E7HTHD</td>\n",
       "      <td>3.0</td>\n",
       "      <td>2014-05-10</td>\n",
       "    </tr>\n",
       "    <tr>\n",
       "      <th>2</th>\n",
       "      <td>0439381673</td>\n",
       "      <td>A1OKRM3QFEATQO</td>\n",
       "      <td>4.0</td>\n",
       "      <td>2014-02-07</td>\n",
       "    </tr>\n",
       "    <tr>\n",
       "      <th>3</th>\n",
       "      <td>0439381673</td>\n",
       "      <td>A2XO1JFCNEYV3T</td>\n",
       "      <td>1.0</td>\n",
       "      <td>2014-02-07</td>\n",
       "    </tr>\n",
       "    <tr>\n",
       "      <th>4</th>\n",
       "      <td>0439381673</td>\n",
       "      <td>A19WLPIRHD15TH</td>\n",
       "      <td>4.0</td>\n",
       "      <td>2014-01-16</td>\n",
       "    </tr>\n",
       "  </tbody>\n",
       "</table>\n",
       "</div>"
      ],
      "text/plain": [
       "    ProductID      ReviewerID  Rating  TimeStamp\n",
       "0  0439381673  A21ROB4YDOZA5P     1.0 2014-06-09\n",
       "1  0439381673  A3TNZ2Q5E7HTHD     3.0 2014-05-10\n",
       "2  0439381673  A1OKRM3QFEATQO     4.0 2014-02-07\n",
       "3  0439381673  A2XO1JFCNEYV3T     1.0 2014-02-07\n",
       "4  0439381673  A19WLPIRHD15TH     4.0 2014-01-16"
      ]
     },
     "execution_count": 3,
     "metadata": {},
     "output_type": "execute_result"
    }
   ],
   "source": [
    "rating_data = read_from_csv(df_vgame_dir, header=None, names=['ProductID', 'ReviewerID', 'Rating', 'TimeStamp'])\n",
    "rating_data['TimeStamp'] = pd.to_datetime(rating_data.TimeStamp, unit='s')\n",
    "print()\n",
    "rating_data.head()"
   ]
  },
  {
   "cell_type": "code",
   "execution_count": 4,
   "metadata": {
    "ExecuteTime": {
     "end_time": "2021-04-25T16:12:39.967582Z",
     "start_time": "2021-04-25T16:12:26.131168Z"
    }
   },
   "outputs": [
    {
     "data": {
      "text/html": [
       "<div>\n",
       "<style scoped>\n",
       "    .dataframe tbody tr th:only-of-type {\n",
       "        vertical-align: middle;\n",
       "    }\n",
       "\n",
       "    .dataframe tbody tr th {\n",
       "        vertical-align: top;\n",
       "    }\n",
       "\n",
       "    .dataframe thead th {\n",
       "        text-align: right;\n",
       "    }\n",
       "</style>\n",
       "<table border=\"1\" class=\"dataframe\">\n",
       "  <thead>\n",
       "    <tr style=\"text-align: right;\">\n",
       "      <th></th>\n",
       "      <th>overall</th>\n",
       "      <th>verified</th>\n",
       "      <th>reviewTime</th>\n",
       "      <th>ReviewerID</th>\n",
       "      <th>ProductID</th>\n",
       "      <th>reviewerName</th>\n",
       "      <th>reviewText</th>\n",
       "      <th>summary</th>\n",
       "      <th>unixReviewTime</th>\n",
       "      <th>vote</th>\n",
       "      <th>style</th>\n",
       "      <th>image</th>\n",
       "    </tr>\n",
       "  </thead>\n",
       "  <tbody>\n",
       "    <tr>\n",
       "      <th>0</th>\n",
       "      <td>5.0</td>\n",
       "      <td>True</td>\n",
       "      <td>10 17, 2015</td>\n",
       "      <td>A1HP7NVNPFMA4N</td>\n",
       "      <td>0700026657</td>\n",
       "      <td>Ambrosia075</td>\n",
       "      <td>This game is a bit hard to get the hang of, bu...</td>\n",
       "      <td>but when you do it's great.</td>\n",
       "      <td>2015-10-17</td>\n",
       "      <td>NaN</td>\n",
       "      <td>NaN</td>\n",
       "      <td>NaN</td>\n",
       "    </tr>\n",
       "    <tr>\n",
       "      <th>1</th>\n",
       "      <td>4.0</td>\n",
       "      <td>False</td>\n",
       "      <td>07 27, 2015</td>\n",
       "      <td>A1JGAP0185YJI6</td>\n",
       "      <td>0700026657</td>\n",
       "      <td>travis</td>\n",
       "      <td>I played it a while but it was alright. The st...</td>\n",
       "      <td>But in spite of that it was fun, I liked it</td>\n",
       "      <td>2015-07-27</td>\n",
       "      <td>NaN</td>\n",
       "      <td>NaN</td>\n",
       "      <td>NaN</td>\n",
       "    </tr>\n",
       "    <tr>\n",
       "      <th>2</th>\n",
       "      <td>3.0</td>\n",
       "      <td>True</td>\n",
       "      <td>02 23, 2015</td>\n",
       "      <td>A1YJWEXHQBWK2B</td>\n",
       "      <td>0700026657</td>\n",
       "      <td>Vincent G. Mezera</td>\n",
       "      <td>ok game.</td>\n",
       "      <td>Three Stars</td>\n",
       "      <td>2015-02-23</td>\n",
       "      <td>NaN</td>\n",
       "      <td>NaN</td>\n",
       "      <td>NaN</td>\n",
       "    </tr>\n",
       "    <tr>\n",
       "      <th>3</th>\n",
       "      <td>2.0</td>\n",
       "      <td>True</td>\n",
       "      <td>02 20, 2015</td>\n",
       "      <td>A2204E1TH211HT</td>\n",
       "      <td>0700026657</td>\n",
       "      <td>Grandma KR</td>\n",
       "      <td>found the game a bit too complicated, not what...</td>\n",
       "      <td>Two Stars</td>\n",
       "      <td>2015-02-20</td>\n",
       "      <td>NaN</td>\n",
       "      <td>NaN</td>\n",
       "      <td>NaN</td>\n",
       "    </tr>\n",
       "    <tr>\n",
       "      <th>4</th>\n",
       "      <td>5.0</td>\n",
       "      <td>True</td>\n",
       "      <td>12 25, 2014</td>\n",
       "      <td>A2RF5B5H74JLPE</td>\n",
       "      <td>0700026657</td>\n",
       "      <td>jon</td>\n",
       "      <td>great game, I love it and have played it since...</td>\n",
       "      <td>love this game</td>\n",
       "      <td>2014-12-25</td>\n",
       "      <td>NaN</td>\n",
       "      <td>NaN</td>\n",
       "      <td>NaN</td>\n",
       "    </tr>\n",
       "  </tbody>\n",
       "</table>\n",
       "</div>"
      ],
      "text/plain": [
       "   overall  verified   reviewTime      ReviewerID   ProductID  \\\n",
       "0      5.0      True  10 17, 2015  A1HP7NVNPFMA4N  0700026657   \n",
       "1      4.0     False  07 27, 2015  A1JGAP0185YJI6  0700026657   \n",
       "2      3.0      True  02 23, 2015  A1YJWEXHQBWK2B  0700026657   \n",
       "3      2.0      True  02 20, 2015  A2204E1TH211HT  0700026657   \n",
       "4      5.0      True  12 25, 2014  A2RF5B5H74JLPE  0700026657   \n",
       "\n",
       "        reviewerName                                         reviewText  \\\n",
       "0        Ambrosia075  This game is a bit hard to get the hang of, bu...   \n",
       "1             travis  I played it a while but it was alright. The st...   \n",
       "2  Vincent G. Mezera                                           ok game.   \n",
       "3         Grandma KR  found the game a bit too complicated, not what...   \n",
       "4                jon  great game, I love it and have played it since...   \n",
       "\n",
       "                                       summary unixReviewTime vote style image  \n",
       "0                  but when you do it's great.     2015-10-17  NaN   NaN   NaN  \n",
       "1  But in spite of that it was fun, I liked it     2015-07-27  NaN   NaN   NaN  \n",
       "2                                  Three Stars     2015-02-23  NaN   NaN   NaN  \n",
       "3                                    Two Stars     2015-02-20  NaN   NaN   NaN  \n",
       "4                               love this game     2014-12-25  NaN   NaN   NaN  "
      ]
     },
     "execution_count": 4,
     "metadata": {},
     "output_type": "execute_result"
    }
   ],
   "source": [
    "def parse(path):\n",
    "  g = gzip.open(path, 'rb')\n",
    "  for l in g:\n",
    "    yield json.loads(l)\n",
    "\n",
    "def getDF(path):\n",
    "  i = 0\n",
    "  df = {}\n",
    "  for d in parse(path):\n",
    "    df[i] = d\n",
    "    i += 1\n",
    "  return pd.DataFrame.from_dict(df, orient='index')\n",
    "\n",
    "\n",
    "review_data = getDF(gz_vgame_dir)\n",
    "review_data['unixReviewTime'] = pd.to_datetime(review_data.unixReviewTime, unit='s')\n",
    "review_data = review_data.rename(columns={'asin': 'ProductID', 'reviewerID': 'ReviewerID'})\n",
    "review_data.head()"
   ]
  },
  {
   "cell_type": "markdown",
   "metadata": {},
   "source": [
    "# Statistical Description "
   ]
  },
  {
   "cell_type": "code",
   "execution_count": 5,
   "metadata": {
    "ExecuteTime": {
     "end_time": "2021-04-25T16:12:46.478951Z",
     "start_time": "2021-04-25T16:12:45.692353Z"
    }
   },
   "outputs": [],
   "source": [
    "rating_data = rating_data.sort_values(by='TimeStamp')"
   ]
  },
  {
   "cell_type": "code",
   "execution_count": 6,
   "metadata": {
    "ExecuteTime": {
     "end_time": "2021-04-25T16:12:47.441599Z",
     "start_time": "2021-04-25T16:12:47.400413Z"
    }
   },
   "outputs": [
    {
     "data": {
      "text/plain": [
       "5.0    1487366\n",
       "4.0     412413\n",
       "1.0     311891\n",
       "3.0     212346\n",
       "2.0     141333\n",
       "Name: Rating, dtype: int64"
      ]
     },
     "execution_count": 6,
     "metadata": {},
     "output_type": "execute_result"
    }
   ],
   "source": [
    "rating_data['Rating'].value_counts()"
   ]
  },
  {
   "cell_type": "code",
   "execution_count": 7,
   "metadata": {},
   "outputs": [
    {
     "data": {
      "text/plain": [
       "ProductID     0\n",
       "ReviewerID    0\n",
       "Rating        0\n",
       "TimeStamp     0\n",
       "dtype: int64"
      ]
     },
     "execution_count": 7,
     "metadata": {},
     "output_type": "execute_result"
    }
   ],
   "source": [
    "rating_data.isna().sum()"
   ]
  },
  {
   "cell_type": "code",
   "execution_count": 8,
   "metadata": {},
   "outputs": [
    {
     "name": "stdout",
     "output_type": "stream",
     "text": [
      "Product total: 71982\n",
      "Reviewer total: 1540618\n"
     ]
    }
   ],
   "source": [
    "print(f\"Product total: {rating_data['ProductID'].nunique()}\")\n",
    "print(f\"Reviewer total: {rating_data['ReviewerID'].nunique()}\")"
   ]
  },
  {
   "cell_type": "code",
   "execution_count": 9,
   "metadata": {},
   "outputs": [
    {
     "data": {
      "text/plain": [
       "'I played it a while but it was alright. The steam was a bit of trouble. The more they move these game to steam the more of a hard time I have activating and playing a game. But in spite of that it was fun, I liked it. Now I am looking forward to anno 2205 I really want to play my way to the moon.'"
      ]
     },
     "execution_count": 9,
     "metadata": {},
     "output_type": "execute_result"
    }
   ],
   "source": [
    "review_data['reviewText'].iloc[1]"
   ]
  },
  {
   "cell_type": "code",
   "execution_count": 10,
   "metadata": {},
   "outputs": [
    {
     "data": {
      "text/plain": [
       "'But in spite of that it was fun, I liked it'"
      ]
     },
     "execution_count": 10,
     "metadata": {},
     "output_type": "execute_result"
    }
   ],
   "source": [
    "review_data['summary'].iloc[1]"
   ]
  },
  {
   "cell_type": "markdown",
   "metadata": {
    "code_folding": []
   },
   "source": [
    "# NLP data processing"
   ]
  },
  {
   "cell_type": "code",
   "execution_count": 12,
   "metadata": {},
   "outputs": [],
   "source": [
    "import re\n",
    "import nltk\n",
    "# import nltk\n",
    "# nltk.download('stopwords')\n",
    "# 手动添加\n",
    "from nltk.corpus import stopwords\n",
    "from nltk.stem.porter import PorterStemmer\n",
    "english_stemmer=nltk.stem.SnowballStemmer('english')"
   ]
  },
  {
   "cell_type": "code",
   "execution_count": 94,
   "metadata": {},
   "outputs": [],
   "source": [
    "def data_clean(rev, remove_stopwords=True): \n",
    "    \n",
    "    try:\n",
    "        new_text = re.sub(\"[^a-zA-Z]\",\" \", rev)\n",
    "    except:\n",
    "        print(rev)\n",
    "        new_text = []\n",
    "   \n",
    "    words = new_text.lower().split()\n",
    "    \n",
    "    if remove_stopwords:\n",
    "        sts = set(stopwords.words(\"english\"))\n",
    "        words = [w for w in words if not w in sts]\n",
    "    ary=[]\n",
    "    eng_stemmer = english_stemmer \n",
    "    for word in words:\n",
    "        ary.append(eng_stemmer.stem(word))\n",
    "\n",
    "    new_ary = ' '.join(ary)\n",
    "    return(new_ary)"
   ]
  },
  {
   "cell_type": "code",
   "execution_count": 95,
   "metadata": {},
   "outputs": [
    {
     "data": {
      "text/plain": [
       "(497577, 12)"
      ]
     },
     "execution_count": 95,
     "metadata": {},
     "output_type": "execute_result"
    }
   ],
   "source": [
    "review_data.shape"
   ]
  },
  {
   "cell_type": "code",
   "execution_count": 98,
   "metadata": {},
   "outputs": [
    {
     "data": {
      "text/html": [
       "<div>\n",
       "<style scoped>\n",
       "    .dataframe tbody tr th:only-of-type {\n",
       "        vertical-align: middle;\n",
       "    }\n",
       "\n",
       "    .dataframe tbody tr th {\n",
       "        vertical-align: top;\n",
       "    }\n",
       "\n",
       "    .dataframe thead th {\n",
       "        text-align: right;\n",
       "    }\n",
       "</style>\n",
       "<table border=\"1\" class=\"dataframe\">\n",
       "  <thead>\n",
       "    <tr style=\"text-align: right;\">\n",
       "      <th></th>\n",
       "      <th>overall</th>\n",
       "      <th>ReviewerID</th>\n",
       "      <th>ProductID</th>\n",
       "      <th>reviewText</th>\n",
       "      <th>summary</th>\n",
       "      <th>unixReviewTime</th>\n",
       "    </tr>\n",
       "  </thead>\n",
       "  <tbody>\n",
       "    <tr>\n",
       "      <th>6043</th>\n",
       "      <td>5.0</td>\n",
       "      <td>A2AXQTB83VMK4L</td>\n",
       "      <td>B0000296O5</td>\n",
       "      <td>I'm having the most fun I've ever had on PlayS...</td>\n",
       "      <td>Best RPG Ever!</td>\n",
       "      <td>1999-10-14</td>\n",
       "    </tr>\n",
       "    <tr>\n",
       "      <th>6978</th>\n",
       "      <td>4.0</td>\n",
       "      <td>A2T04VAIXSKJH2</td>\n",
       "      <td>B00002NDRY</td>\n",
       "      <td>I'm usually not crazy about real-time strategy...</td>\n",
       "      <td>Good real time strategy game</td>\n",
       "      <td>1999-11-05</td>\n",
       "    </tr>\n",
       "    <tr>\n",
       "      <th>4124</th>\n",
       "      <td>5.0</td>\n",
       "      <td>A3VWWQT4XDSBGQ</td>\n",
       "      <td>B00000K4AX</td>\n",
       "      <td>If you loved Half-Life, this is a must buy. I ...</td>\n",
       "      <td>AWESOME!</td>\n",
       "      <td>1999-11-10</td>\n",
       "    </tr>\n",
       "    <tr>\n",
       "      <th>5861</th>\n",
       "      <td>5.0</td>\n",
       "      <td>A1QA8K3LD9K892</td>\n",
       "      <td>B000021Y5F</td>\n",
       "      <td>Williams made games for hard-core arcade gamer...</td>\n",
       "      <td>A cool 80's artifact</td>\n",
       "      <td>1999-11-10</td>\n",
       "    </tr>\n",
       "    <tr>\n",
       "      <th>5993</th>\n",
       "      <td>4.0</td>\n",
       "      <td>AMGJMFJ63DWWH</td>\n",
       "      <td>B000021XYY</td>\n",
       "      <td>This game actually scared me a couple times, a...</td>\n",
       "      <td>A good game, but way too short!</td>\n",
       "      <td>1999-11-10</td>\n",
       "    </tr>\n",
       "  </tbody>\n",
       "</table>\n",
       "</div>"
      ],
      "text/plain": [
       "      overall      ReviewerID   ProductID  \\\n",
       "6043      5.0  A2AXQTB83VMK4L  B0000296O5   \n",
       "6978      4.0  A2T04VAIXSKJH2  B00002NDRY   \n",
       "4124      5.0  A3VWWQT4XDSBGQ  B00000K4AX   \n",
       "5861      5.0  A1QA8K3LD9K892  B000021Y5F   \n",
       "5993      4.0   AMGJMFJ63DWWH  B000021XYY   \n",
       "\n",
       "                                             reviewText  \\\n",
       "6043  I'm having the most fun I've ever had on PlayS...   \n",
       "6978  I'm usually not crazy about real-time strategy...   \n",
       "4124  If you loved Half-Life, this is a must buy. I ...   \n",
       "5861  Williams made games for hard-core arcade gamer...   \n",
       "5993  This game actually scared me a couple times, a...   \n",
       "\n",
       "                              summary unixReviewTime  \n",
       "6043                   Best RPG Ever!     1999-10-14  \n",
       "6978     Good real time strategy game     1999-11-05  \n",
       "4124                         AWESOME!     1999-11-10  \n",
       "5861             A cool 80's artifact     1999-11-10  \n",
       "5993  A good game, but way too short!     1999-11-10  "
      ]
     },
     "execution_count": 98,
     "metadata": {},
     "output_type": "execute_result"
    }
   ],
   "source": [
    "part_data = review_data[: 10000].fillna('')\n",
    "part_data = part_data.drop(columns=['vote', 'style', 'image', 'reviewTime', 'reviewerName', 'verified'])\n",
    "part_data = part_data.sort_values(by='unixReviewTime')\n",
    "part_data.head()"
   ]
  },
  {
   "cell_type": "code",
   "execution_count": 99,
   "metadata": {},
   "outputs": [],
   "source": [
    "part_data['reviewText'] = part_data['reviewText'].apply(lambda x: data_clean(x))\n",
    "part_data['summary'] = part_data['summary'].apply(lambda x: data_clean(x))\n",
    "\n",
    "part_data['docs'] = part_data.apply(lambda x: x.reviewText + x.summary, axis=1)"
   ]
  },
  {
   "cell_type": "code",
   "execution_count": 100,
   "metadata": {},
   "outputs": [
    {
     "data": {
      "text/html": [
       "<div>\n",
       "<style scoped>\n",
       "    .dataframe tbody tr th:only-of-type {\n",
       "        vertical-align: middle;\n",
       "    }\n",
       "\n",
       "    .dataframe tbody tr th {\n",
       "        vertical-align: top;\n",
       "    }\n",
       "\n",
       "    .dataframe thead th {\n",
       "        text-align: right;\n",
       "    }\n",
       "</style>\n",
       "<table border=\"1\" class=\"dataframe\">\n",
       "  <thead>\n",
       "    <tr style=\"text-align: right;\">\n",
       "      <th></th>\n",
       "      <th>overall</th>\n",
       "      <th>ReviewerID</th>\n",
       "      <th>ProductID</th>\n",
       "      <th>reviewText</th>\n",
       "      <th>summary</th>\n",
       "      <th>unixReviewTime</th>\n",
       "      <th>docs</th>\n",
       "    </tr>\n",
       "  </thead>\n",
       "  <tbody>\n",
       "    <tr>\n",
       "      <th>6043</th>\n",
       "      <td>5.0</td>\n",
       "      <td>A2AXQTB83VMK4L</td>\n",
       "      <td>B0000296O5</td>\n",
       "      <td>fun ever playstat high recommend best rpg ever</td>\n",
       "      <td>best rpg ever</td>\n",
       "      <td>1999-10-14</td>\n",
       "      <td>fun ever playstat high recommend best rpg ever...</td>\n",
       "    </tr>\n",
       "    <tr>\n",
       "      <th>6978</th>\n",
       "      <td>4.0</td>\n",
       "      <td>A2T04VAIXSKJH2</td>\n",
       "      <td>B00002NDRY</td>\n",
       "      <td>usual crazi real time strategi game tend becom...</td>\n",
       "      <td>good real time strategi game</td>\n",
       "      <td>1999-11-05</td>\n",
       "      <td>usual crazi real time strategi game tend becom...</td>\n",
       "    </tr>\n",
       "    <tr>\n",
       "      <th>4124</th>\n",
       "      <td>5.0</td>\n",
       "      <td>A3VWWQT4XDSBGQ</td>\n",
       "      <td>B00000K4AX</td>\n",
       "      <td>love half life must buy big fpshooter fan ss l...</td>\n",
       "      <td>awesom</td>\n",
       "      <td>1999-11-10</td>\n",
       "      <td>love half life must buy big fpshooter fan ss l...</td>\n",
       "    </tr>\n",
       "    <tr>\n",
       "      <th>5861</th>\n",
       "      <td>5.0</td>\n",
       "      <td>A1QA8K3LD9K892</td>\n",
       "      <td>B000021Y5F</td>\n",
       "      <td>william made game hard core arcad gamer collec...</td>\n",
       "      <td>cool artifact</td>\n",
       "      <td>1999-11-10</td>\n",
       "      <td>william made game hard core arcad gamer collec...</td>\n",
       "    </tr>\n",
       "    <tr>\n",
       "      <th>5993</th>\n",
       "      <td>4.0</td>\n",
       "      <td>AMGJMFJ63DWWH</td>\n",
       "      <td>B000021XYY</td>\n",
       "      <td>game actual scare coupl time wit supernatur ph...</td>\n",
       "      <td>good game way short</td>\n",
       "      <td>1999-11-10</td>\n",
       "      <td>game actual scare coupl time wit supernatur ph...</td>\n",
       "    </tr>\n",
       "  </tbody>\n",
       "</table>\n",
       "</div>"
      ],
      "text/plain": [
       "      overall      ReviewerID   ProductID  \\\n",
       "6043      5.0  A2AXQTB83VMK4L  B0000296O5   \n",
       "6978      4.0  A2T04VAIXSKJH2  B00002NDRY   \n",
       "4124      5.0  A3VWWQT4XDSBGQ  B00000K4AX   \n",
       "5861      5.0  A1QA8K3LD9K892  B000021Y5F   \n",
       "5993      4.0   AMGJMFJ63DWWH  B000021XYY   \n",
       "\n",
       "                                             reviewText  \\\n",
       "6043     fun ever playstat high recommend best rpg ever   \n",
       "6978  usual crazi real time strategi game tend becom...   \n",
       "4124  love half life must buy big fpshooter fan ss l...   \n",
       "5861  william made game hard core arcad gamer collec...   \n",
       "5993  game actual scare coupl time wit supernatur ph...   \n",
       "\n",
       "                           summary unixReviewTime  \\\n",
       "6043                 best rpg ever     1999-10-14   \n",
       "6978  good real time strategi game     1999-11-05   \n",
       "4124                        awesom     1999-11-10   \n",
       "5861                 cool artifact     1999-11-10   \n",
       "5993           good game way short     1999-11-10   \n",
       "\n",
       "                                                   docs  \n",
       "6043  fun ever playstat high recommend best rpg ever...  \n",
       "6978  usual crazi real time strategi game tend becom...  \n",
       "4124  love half life must buy big fpshooter fan ss l...  \n",
       "5861  william made game hard core arcad gamer collec...  \n",
       "5993  game actual scare coupl time wit supernatur ph...  "
      ]
     },
     "execution_count": 100,
     "metadata": {},
     "output_type": "execute_result"
    }
   ],
   "source": [
    "part_data.head()"
   ]
  },
  {
   "cell_type": "code",
   "execution_count": 101,
   "metadata": {},
   "outputs": [
    {
     "data": {
      "text/plain": [
       "5.0    6627\n",
       "4.0    1809\n",
       "3.0     808\n",
       "1.0     388\n",
       "2.0     368\n",
       "Name: overall, dtype: int64"
      ]
     },
     "execution_count": 101,
     "metadata": {},
     "output_type": "execute_result"
    }
   ],
   "source": [
    "part_data['overall'].value_counts()"
   ]
  },
  {
   "cell_type": "code",
   "execution_count": 103,
   "metadata": {},
   "outputs": [],
   "source": [
    "import sklearn\n",
    "from sklearn.feature_extraction.text import TfidfVectorizer"
   ]
  },
  {
   "cell_type": "code",
   "execution_count": 104,
   "metadata": {},
   "outputs": [],
   "source": [
    "corpus = part_data['reviewText'].tolist()"
   ]
  },
  {
   "cell_type": "code",
   "execution_count": 106,
   "metadata": {},
   "outputs": [
    {
     "name": "stdout",
     "output_type": "stream",
     "text": [
      "(10000, 2863)\n"
     ]
    }
   ],
   "source": [
    "vectorizer = TfidfVectorizer(min_df=20, max_df=0.5)\n",
    "X = vectorizer.fit_transform(corpus)\n",
    "print(X.shape)"
   ]
  },
  {
   "cell_type": "code",
   "execution_count": 108,
   "metadata": {},
   "outputs": [],
   "source": [
    "import tensorflow as tf\n",
    "from tensorflow.keras.models import Sequential\n",
    "from tensorflow.keras.layers import Input, LSTM, Dense, Dropout, Embedding"
   ]
  },
  {
   "cell_type": "code",
   "execution_count": 112,
   "metadata": {},
   "outputs": [
    {
     "name": "stdout",
     "output_type": "stream",
     "text": [
      "train_x: (8000, 2863)\n",
      "val_x: (1000, 2863)\n",
      "test_x: (1000, 2863)\n"
     ]
    }
   ],
   "source": [
    "train_x = X[: int(X.shape[0] * 0.8)]\n",
    "val_x = X[int(X.shape[0] * 0.8): int(X.shape[0] * 0.9)]\n",
    "test_x = X[int(X.shape[0] * 0.9) :]\n",
    "print(f\"train_x: {train_x.shape}\")\n",
    "print(f\"val_x: {val_x.shape}\")\n",
    "print(f\"test_x: {test_x.shape}\")"
   ]
  },
  {
   "cell_type": "code",
   "execution_count": 119,
   "metadata": {},
   "outputs": [],
   "source": [
    "y_encode = {\n",
    "    1: [1, 0, 0, 0, 0],\n",
    "    2: [0, 1, 0, 0, 0],\n",
    "    3: [0, 0, 1, 0, 0],\n",
    "    4: [0, 0, 0, 1, 0],\n",
    "    5: [0, 0, 0, 0, 1]\n",
    "}\n",
    "part_data['y'] = part_data['overall'].apply(lambda x: y_encode[x])\n",
    "\n",
    "train_y = np.array(part_data['y'][: int(X.shape[0] * 0.8)].tolist())\n",
    "val_y = np.array(part_data['y'][int(X.shape[0] * 0.8): int(X.shape[0] * 0.9)].tolist())\n",
    "test_y = np.array(part_data['y'][int(X.shape[0] * 0.9) :].tolist())"
   ]
  },
  {
   "cell_type": "code",
   "execution_count": 120,
   "metadata": {},
   "outputs": [],
   "source": [
    "model = Sequential()\n",
    "model.add(Dense(256, input_dim=train_x.shape[1]))\n",
    "model.add(Dropout(rate=0.2))\n",
    "model.add(Dense(128, input_dim=train_x.shape[1]))\n",
    "model.add(Dropout(rate=0.2))\n",
    "model.add(Dense(5, activation='softmax'))\n",
    "\n",
    "model.compile(loss='categorical_crossentropy',optimizer='rmsprop',metrics=['accuracy'])"
   ]
  },
  {
   "cell_type": "code",
   "execution_count": 123,
   "metadata": {},
   "outputs": [],
   "source": [
    "callback = tf.keras.callbacks.EarlyStopping(\n",
    "    monitor='val_loss', patience=10,\n",
    "    mode='auto', restore_best_weights=False\n",
    ")# verbose"
   ]
  },
  {
   "cell_type": "code",
   "execution_count": 124,
   "metadata": {},
   "outputs": [
    {
     "name": "stdout",
     "output_type": "stream",
     "text": [
      "WARNING:tensorflow:Falling back from v2 loop because of error: Failed to find data adapter that can handle input: <class 'scipy.sparse.csr.csr_matrix'>, <class 'NoneType'>\n",
      "Train on 8000 samples, validate on 1000 samples\n",
      "Epoch 1/100\n",
      "8000/8000 [==============================] - 4s 512us/sample - loss: 0.9365 - accuracy: 0.6469 - val_loss: 0.6979 - val_accuracy: 0.7680\n",
      "Epoch 2/100\n",
      "8000/8000 [==============================] - 3s 413us/sample - loss: 0.7450 - accuracy: 0.7117 - val_loss: 0.7381 - val_accuracy: 0.7670\n",
      "Epoch 3/100\n",
      "8000/8000 [==============================] - 3s 408us/sample - loss: 0.6525 - accuracy: 0.7539 - val_loss: 0.7819 - val_accuracy: 0.7580\n",
      "Epoch 4/100\n",
      "8000/8000 [==============================] - 3s 419us/sample - loss: 0.5919 - accuracy: 0.7809 - val_loss: 0.8300 - val_accuracy: 0.7380\n",
      "Epoch 5/100\n",
      "8000/8000 [==============================] - 3s 433us/sample - loss: 0.5469 - accuracy: 0.7933 - val_loss: 0.8587 - val_accuracy: 0.7450\n",
      "Epoch 6/100\n",
      "8000/8000 [==============================] - 3s 427us/sample - loss: 0.5129 - accuracy: 0.8061 - val_loss: 0.9164 - val_accuracy: 0.7440\n",
      "Epoch 7/100\n",
      "8000/8000 [==============================] - 3s 423us/sample - loss: 0.4903 - accuracy: 0.8225 - val_loss: 0.9666 - val_accuracy: 0.7440\n",
      "Epoch 8/100\n",
      "8000/8000 [==============================] - 3s 417us/sample - loss: 0.4699 - accuracy: 0.8304 - val_loss: 0.9865 - val_accuracy: 0.7430\n",
      "Epoch 9/100\n",
      "8000/8000 [==============================] - 3s 414us/sample - loss: 0.4516 - accuracy: 0.8345 - val_loss: 1.0471 - val_accuracy: 0.7380\n",
      "Epoch 10/100\n",
      "8000/8000 [==============================] - 3s 414us/sample - loss: 0.4415 - accuracy: 0.8385 - val_loss: 1.0944 - val_accuracy: 0.7350\n",
      "Epoch 11/100\n",
      "8000/8000 [==============================] - 3s 424us/sample - loss: 0.4271 - accuracy: 0.8482 - val_loss: 1.1264 - val_accuracy: 0.7340\n",
      "WARNING:tensorflow:Falling back from v2 loop because of error: Failed to find data adapter that can handle input: <class 'scipy.sparse.csr.csr_matrix'>, <class 'NoneType'>\n",
      "1000/1000 [==============================] - 0s 86us/sample - loss: 0.9998 - accuracy: 0.7260\n"
     ]
    },
    {
     "data": {
      "text/plain": [
       "0.726"
      ]
     },
     "execution_count": 124,
     "metadata": {},
     "output_type": "execute_result"
    }
   ],
   "source": [
    "model.fit(train_x, train_y,\n",
    "          validation_data=(val_x, val_y),\n",
    "          epochs=100,\n",
    "          batch_size=32,\n",
    "          verbose=1, \n",
    "          callbacks=[callback])\n",
    "model.evaluate(test_x, test_y)[1]"
   ]
  },
  {
   "cell_type": "code",
   "execution_count": null,
   "metadata": {},
   "outputs": [],
   "source": []
  }
 ],
 "metadata": {
  "hide_input": false,
  "kernelspec": {
   "display_name": "Python [conda env:py_tf]",
   "language": "python",
   "name": "conda-env-py_tf-py"
  },
  "language_info": {
   "codemirror_mode": {
    "name": "ipython",
    "version": 3
   },
   "file_extension": ".py",
   "mimetype": "text/x-python",
   "name": "python",
   "nbconvert_exporter": "python",
   "pygments_lexer": "ipython3",
   "version": "3.7.10"
  },
  "latex_envs": {
   "LaTeX_envs_menu_present": true,
   "autoclose": false,
   "autocomplete": true,
   "bibliofile": "biblio.bib",
   "cite_by": "apalike",
   "current_citInitial": 1,
   "eqLabelWithNumbers": true,
   "eqNumInitial": 1,
   "hotkeys": {
    "equation": "Ctrl-E",
    "itemize": "Ctrl-I"
   },
   "labels_anchors": false,
   "latex_user_defs": false,
   "report_style_numbering": false,
   "user_envs_cfg": false
  },
  "nbTranslate": {
   "displayLangs": [
    "*"
   ],
   "hotkey": "alt-t",
   "langInMainMenu": true,
   "sourceLang": "en",
   "targetLang": "fr",
   "useGoogleTranslate": true
  },
  "toc": {
   "base_numbering": 1,
   "nav_menu": {},
   "number_sections": true,
   "sideBar": true,
   "skip_h1_title": false,
   "title_cell": "Table of Contents",
   "title_sidebar": "Contents",
   "toc_cell": true,
   "toc_position": {},
   "toc_section_display": true,
   "toc_window_display": true
  },
  "varInspector": {
   "cols": {
    "lenName": 16,
    "lenType": 16,
    "lenVar": 40
   },
   "kernels_config": {
    "python": {
     "delete_cmd_postfix": "",
     "delete_cmd_prefix": "del ",
     "library": "var_list.py",
     "varRefreshCmd": "print(var_dic_list())"
    },
    "r": {
     "delete_cmd_postfix": ") ",
     "delete_cmd_prefix": "rm(",
     "library": "var_list.r",
     "varRefreshCmd": "cat(var_dic_list()) "
    }
   },
   "types_to_exclude": [
    "module",
    "function",
    "builtin_function_or_method",
    "instance",
    "_Feature"
   ],
   "window_display": false
  }
 },
 "nbformat": 4,
 "nbformat_minor": 4
}
